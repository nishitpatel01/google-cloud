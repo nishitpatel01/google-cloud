{
 "cells": [
  {
   "cell_type": "markdown",
   "id": "5024d7ba-10e5-4fb1-bf71-56e2d5216af0",
   "metadata": {},
   "source": [
    "# Text Sentiment Analysis & Entity Extraction using Google Cloud's Natural Language API"
   ]
  },
  {
   "cell_type": "markdown",
   "id": "4636b1f0-28e0-49e0-9b27-b0a534e05bbb",
   "metadata": {},
   "source": [
    "## Overview"
   ]
  },
  {
   "cell_type": "markdown",
   "id": "8c68b32c-3f2a-4e43-8c98-a0f8c1774d66",
   "metadata": {},
   "source": [
    "Google Cloud's Natural Language API is a pretrained ML api that can be used to derive insights from text files. This is an easy to use api that user's can use to quickly perform sentiment from a text string or a document, perform entity extraction and classification as well."
   ]
  },
  {
   "cell_type": "markdown",
   "id": "45ae5273-0ddc-4bd3-905f-66ad611e9d4e",
   "metadata": {},
   "source": [
    "## Objective"
   ]
  },
  {
   "cell_type": "markdown",
   "id": "337a7df7-bb33-4c57-924a-d9f01d6eb4f8",
   "metadata": {},
   "source": [
    "This notebook illustrates an example on how to perform sentiment analysis, entity extraction and classification using a text files stored in the cloud storage bucket using api client library. Notebook covers following topics\n",
    "\n",
    "- API setup\n",
    "- Analyzing Sentiment\n",
    "- Analyzing Entities\n",
    "- Analyzing Entity Sentiment\n",
    "- Content Classification"
   ]
  },
  {
   "cell_type": "markdown",
   "id": "8cb425ba-967c-4c92-a33e-5fd0af74841a",
   "metadata": {},
   "source": [
    "## Data "
   ]
  },
  {
   "cell_type": "markdown",
   "id": "204d0c34-9a29-414e-ab0b-90ca48fc2c26",
   "metadata": {},
   "source": [
    "I am using `BLIND FATE By Toby Bradley` in txt format. This txt file is saved in my project's cloud storage bucket"
   ]
  },
  {
   "cell_type": "markdown",
   "id": "d98ed36c-96d0-460b-9c0c-90247fb06c8b",
   "metadata": {},
   "source": [
    "## Setup Resources"
   ]
  },
  {
   "cell_type": "markdown",
   "id": "656f0aea-b80f-430b-b358-f0b1eae13349",
   "metadata": {},
   "source": [
    "## TODO: LIST STEPS FOR API SETUP"
   ]
  },
  {
   "cell_type": "code",
   "execution_count": null,
   "id": "60830467-5e5e-42f7-8233-b3cf1489de1c",
   "metadata": {},
   "outputs": [],
   "source": []
  },
  {
   "cell_type": "markdown",
   "id": "6897b8ca-ee80-4247-9514-cc85d0d93ddf",
   "metadata": {},
   "source": [
    "### Install packages and libraries"
   ]
  },
  {
   "cell_type": "code",
   "execution_count": 8,
   "id": "79308b91-6ea0-45a4-8f73-ebb0189e87ed",
   "metadata": {},
   "outputs": [
    {
     "name": "stderr",
     "output_type": "stream",
     "text": [
      "E0104 19:33:08.106460415   28196 fork_posix.cc:70]           Fork support is only compatible with the epoll1 and poll polling strategies\n"
     ]
    },
    {
     "name": "stdout",
     "output_type": "stream",
     "text": [
      "Requirement already satisfied: google-cloud-language in /opt/conda/lib/python3.7/site-packages (2.4.1)\n",
      "Collecting google-cloud-language\n",
      "  Downloading google_cloud_language-2.7.0-py2.py3-none-any.whl (81 kB)\n",
      "\u001b[2K     \u001b[90m━━━━━━━━━━━━━━━━━━━━━━━━━━━━━━━━━━━━━━━━\u001b[0m \u001b[32m81.3/81.3 KB\u001b[0m \u001b[31m4.0 MB/s\u001b[0m eta \u001b[36m0:00:00\u001b[0m\n",
      "\u001b[?25hRequirement already satisfied: proto-plus<2.0.0dev,>=1.22.0 in /opt/conda/lib/python3.7/site-packages (from google-cloud-language) (1.22.1)\n",
      "Collecting google-api-core[grpc]!=2.0.*,!=2.1.*,!=2.10.*,!=2.2.*,!=2.3.*,!=2.4.*,!=2.5.*,!=2.6.*,!=2.7.*,!=2.8.*,!=2.9.*,<3.0.0dev,>=1.34.0\n",
      "  Downloading google_api_core-2.11.0-py3-none-any.whl (120 kB)\n",
      "\u001b[2K     \u001b[90m━━━━━━━━━━━━━━━━━━━━━━━━━━━━━━━━━━━━━━━\u001b[0m \u001b[32m120.3/120.3 KB\u001b[0m \u001b[31m8.5 MB/s\u001b[0m eta \u001b[36m0:00:00\u001b[0m\n",
      "\u001b[?25hRequirement already satisfied: protobuf!=3.20.0,!=3.20.1,!=4.21.0,!=4.21.1,!=4.21.2,!=4.21.3,!=4.21.4,!=4.21.5,<5.0.0dev,>=3.19.5 in /opt/conda/lib/python3.7/site-packages (from google-cloud-language) (4.21.9)\n",
      "Collecting google-auth<3.0dev,>=2.14.1\n",
      "  Downloading google_auth-2.15.0-py2.py3-none-any.whl (177 kB)\n",
      "\u001b[2K     \u001b[90m━━━━━━━━━━━━━━━━━━━━━━━━━━━━━━━━━━━━━━\u001b[0m \u001b[32m177.0/177.0 KB\u001b[0m \u001b[31m25.3 MB/s\u001b[0m eta \u001b[36m0:00:00\u001b[0m\n",
      "\u001b[?25hRequirement already satisfied: requests<3.0.0dev,>=2.18.0 in /opt/conda/lib/python3.7/site-packages (from google-api-core[grpc]!=2.0.*,!=2.1.*,!=2.10.*,!=2.2.*,!=2.3.*,!=2.4.*,!=2.5.*,!=2.6.*,!=2.7.*,!=2.8.*,!=2.9.*,<3.0.0dev,>=1.34.0->google-cloud-language) (2.27.1)\n",
      "Requirement already satisfied: googleapis-common-protos<2.0dev,>=1.56.2 in /opt/conda/lib/python3.7/site-packages (from google-api-core[grpc]!=2.0.*,!=2.1.*,!=2.10.*,!=2.2.*,!=2.3.*,!=2.4.*,!=2.5.*,!=2.6.*,!=2.7.*,!=2.8.*,!=2.9.*,<3.0.0dev,>=1.34.0->google-cloud-language) (1.56.4)\n",
      "Requirement already satisfied: grpcio-status<2.0dev,>=1.33.2 in /opt/conda/lib/python3.7/site-packages (from google-api-core[grpc]!=2.0.*,!=2.1.*,!=2.10.*,!=2.2.*,!=2.3.*,!=2.4.*,!=2.5.*,!=2.6.*,!=2.7.*,!=2.8.*,!=2.9.*,<3.0.0dev,>=1.34.0->google-cloud-language) (1.44.0)\n",
      "Requirement already satisfied: grpcio<2.0dev,>=1.33.2 in /opt/conda/lib/python3.7/site-packages (from google-api-core[grpc]!=2.0.*,!=2.1.*,!=2.10.*,!=2.2.*,!=2.3.*,!=2.4.*,!=2.5.*,!=2.6.*,!=2.7.*,!=2.8.*,!=2.9.*,<3.0.0dev,>=1.34.0->google-cloud-language) (1.44.0)\n",
      "Requirement already satisfied: six>=1.9.0 in /opt/conda/lib/python3.7/site-packages (from google-auth<3.0dev,>=2.14.1->google-api-core[grpc]!=2.0.*,!=2.1.*,!=2.10.*,!=2.2.*,!=2.3.*,!=2.4.*,!=2.5.*,!=2.6.*,!=2.7.*,!=2.8.*,!=2.9.*,<3.0.0dev,>=1.34.0->google-cloud-language) (1.16.0)\n",
      "Requirement already satisfied: cachetools<6.0,>=2.0.0 in /opt/conda/lib/python3.7/site-packages (from google-auth<3.0dev,>=2.14.1->google-api-core[grpc]!=2.0.*,!=2.1.*,!=2.10.*,!=2.2.*,!=2.3.*,!=2.4.*,!=2.5.*,!=2.6.*,!=2.7.*,!=2.8.*,!=2.9.*,<3.0.0dev,>=1.34.0->google-cloud-language) (5.0.0)\n",
      "Requirement already satisfied: pyasn1-modules>=0.2.1 in /opt/conda/lib/python3.7/site-packages (from google-auth<3.0dev,>=2.14.1->google-api-core[grpc]!=2.0.*,!=2.1.*,!=2.10.*,!=2.2.*,!=2.3.*,!=2.4.*,!=2.5.*,!=2.6.*,!=2.7.*,!=2.8.*,!=2.9.*,<3.0.0dev,>=1.34.0->google-cloud-language) (0.2.7)\n",
      "Requirement already satisfied: rsa<5,>=3.1.4 in /opt/conda/lib/python3.7/site-packages (from google-auth<3.0dev,>=2.14.1->google-api-core[grpc]!=2.0.*,!=2.1.*,!=2.10.*,!=2.2.*,!=2.3.*,!=2.4.*,!=2.5.*,!=2.6.*,!=2.7.*,!=2.8.*,!=2.9.*,<3.0.0dev,>=1.34.0->google-cloud-language) (4.8)\n",
      "Requirement already satisfied: certifi>=2017.4.17 in /opt/conda/lib/python3.7/site-packages (from requests<3.0.0dev,>=2.18.0->google-api-core[grpc]!=2.0.*,!=2.1.*,!=2.10.*,!=2.2.*,!=2.3.*,!=2.4.*,!=2.5.*,!=2.6.*,!=2.7.*,!=2.8.*,!=2.9.*,<3.0.0dev,>=1.34.0->google-cloud-language) (2021.10.8)\n",
      "Requirement already satisfied: charset-normalizer~=2.0.0 in /opt/conda/lib/python3.7/site-packages (from requests<3.0.0dev,>=2.18.0->google-api-core[grpc]!=2.0.*,!=2.1.*,!=2.10.*,!=2.2.*,!=2.3.*,!=2.4.*,!=2.5.*,!=2.6.*,!=2.7.*,!=2.8.*,!=2.9.*,<3.0.0dev,>=1.34.0->google-cloud-language) (2.0.12)\n",
      "Requirement already satisfied: urllib3<1.27,>=1.21.1 in /opt/conda/lib/python3.7/site-packages (from requests<3.0.0dev,>=2.18.0->google-api-core[grpc]!=2.0.*,!=2.1.*,!=2.10.*,!=2.2.*,!=2.3.*,!=2.4.*,!=2.5.*,!=2.6.*,!=2.7.*,!=2.8.*,!=2.9.*,<3.0.0dev,>=1.34.0->google-cloud-language) (1.26.8)\n",
      "Requirement already satisfied: idna<4,>=2.5 in /opt/conda/lib/python3.7/site-packages (from requests<3.0.0dev,>=2.18.0->google-api-core[grpc]!=2.0.*,!=2.1.*,!=2.10.*,!=2.2.*,!=2.3.*,!=2.4.*,!=2.5.*,!=2.6.*,!=2.7.*,!=2.8.*,!=2.9.*,<3.0.0dev,>=1.34.0->google-cloud-language) (3.3)\n",
      "Requirement already satisfied: pyasn1<0.5.0,>=0.4.6 in /opt/conda/lib/python3.7/site-packages (from pyasn1-modules>=0.2.1->google-auth<3.0dev,>=2.14.1->google-api-core[grpc]!=2.0.*,!=2.1.*,!=2.10.*,!=2.2.*,!=2.3.*,!=2.4.*,!=2.5.*,!=2.6.*,!=2.7.*,!=2.8.*,!=2.9.*,<3.0.0dev,>=1.34.0->google-cloud-language) (0.4.8)\n",
      "Installing collected packages: google-auth, google-api-core, google-cloud-language\n",
      "  Attempting uninstall: google-auth\n",
      "    Found existing installation: google-auth 2.6.0\n",
      "    Uninstalling google-auth-2.6.0:\n",
      "      Successfully uninstalled google-auth-2.6.0\n",
      "  Attempting uninstall: google-api-core\n",
      "    Found existing installation: google-api-core 2.10.2\n",
      "    Uninstalling google-api-core-2.10.2:\n",
      "      Successfully uninstalled google-api-core-2.10.2\n",
      "  Attempting uninstall: google-cloud-language\n",
      "    Found existing installation: google-cloud-language 2.4.1\n",
      "    Uninstalling google-cloud-language-2.4.1:\n",
      "      Successfully uninstalled google-cloud-language-2.4.1\n",
      "\u001b[31mERROR: pip's dependency resolver does not currently take into account all the packages that are installed. This behaviour is the source of the following dependency conflicts.\n",
      "google-cloud-recommendations-ai 0.2.0 requires google-api-core[grpc]<2.0.0dev,>=1.22.2, but you have google-api-core 2.11.0 which is incompatible.\n",
      "cloud-tpu-client 0.10 requires google-api-python-client==1.8.0, but you have google-api-python-client 2.41.0 which is incompatible.\u001b[0m\u001b[31m\n",
      "\u001b[0mSuccessfully installed google-api-core-2.11.0 google-auth-2.15.0 google-cloud-language-2.7.0\n",
      "Note: you may need to restart the kernel to use updated packages.\n"
     ]
    }
   ],
   "source": [
    "pip install --upgrade google-cloud-language"
   ]
  },
  {
   "cell_type": "code",
   "execution_count": null,
   "id": "436626f7-45d6-453d-8c3b-b50fa668ec93",
   "metadata": {},
   "outputs": [],
   "source": [
    "project = !gcloud config get-value project\n",
    "PROJECT_ID = project[0]\n",
    "REGION = \"us-central1\"\n",
    "BUCKET_NAME = \"<YOUR-BUCKET-NAME>\" #REPLACE BUCKET NAME\n",
    "FILE_PATH = \"<path-to-file>/blind_fate.txt\" #REPLACE PATH TO FILE "
   ]
  },
  {
   "cell_type": "code",
   "execution_count": null,
   "id": "06ed069b-51da-4f46-8fc0-1e525c37be2e",
   "metadata": {},
   "outputs": [],
   "source": [
    "### Create bucket and upload the file\n",
    "\n",
    "! gsutil mb -l $REGION -c standard gs://$BUCKET_NAME\n",
    "\n",
    "! gcloud alpha storage cp $FILE_PATH gs://$BUCKET_NAME/"
   ]
  },
  {
   "cell_type": "code",
   "execution_count": 25,
   "id": "f8a0fa51-2db3-4f1e-932f-d92853609d89",
   "metadata": {},
   "outputs": [],
   "source": [
    "#GCS_FILE_PATH = f\"{BUCKET_NAME}{FILE_PATH}\"\n",
    "GCS_FILE_PATH = 'gs://go-pnishit-assets/AI-ML/01-prebuilt-ml-apis/blind_fate.txt'"
   ]
  },
  {
   "cell_type": "markdown",
   "id": "a50891e6-3ed0-43d3-ad64-b4d43cee9df1",
   "metadata": {},
   "source": [
    "#### Analyzing sentiment "
   ]
  },
  {
   "cell_type": "code",
   "execution_count": null,
   "id": "673ad4a2-b53e-48c5-836d-e6e322db7732",
   "metadata": {},
   "outputs": [],
   "source": [
    "from google.cloud import language_v1"
   ]
  },
  {
   "cell_type": "code",
   "execution_count": 21,
   "id": "56f1e897-d9ab-4534-a317-4e80cbe1fc4f",
   "metadata": {},
   "outputs": [],
   "source": [
    "def analyze_sentiment(gcs_file_uri):\n",
    "    \"\"\"\n",
    "    Analyzing Sentiment in text file stored in Cloud Storage\n",
    "\n",
    "    Args:\n",
    "      gcs_content_uri Google Cloud Storage URI where the file content is located.\n",
    "      e.g. gs://[Your Bucket]/[Path to File]\n",
    "    \"\"\"\n",
    "    \n",
    "    client = language_v1.LanguageServiceClient()\n",
    "    type_ = language_v1.Document.Type.PLAIN_TEXT # Can use HTML & PLAIN_TEXT\n",
    "\n",
    "    language = \"en\"\n",
    "    document = {\n",
    "        \"gcs_content_uri\": gcs_file_uri,\n",
    "        \"type_\": type_,\n",
    "        \"language\": language,\n",
    "    }\n",
    "    \n",
    "    encoding_type = language_v1.EncodingType.UTF8\n",
    "\n",
    "    response = client.analyze_sentiment(\n",
    "        request={\"document\": document, \"encoding_type\": encoding_type}\n",
    "    )\n",
    "    \n",
    "    # Overall Sentiment\n",
    "    print(f\"Overall document sentiment score: {response.document_sentiment.score}\")\n",
    "    print(f\"Overall document sentiment magnitude: {response.document_sentiment.magnitude}\")\n",
    "    \n",
    "    # Per Sentence Sentiment in the document\n",
    "    for sentence in response.sentences:\n",
    "        print(f\"Sentence text: {sentence.text.content}.\")\n",
    "        print(f\"Sentence sentiment score: {sentence.sentiment.score}.\")\n",
    "        print(f\"Sentence sentiment magnitude: {sentence.sentiment.magnitude}.\")"
   ]
  },
  {
   "cell_type": "code",
   "execution_count": null,
   "id": "b0b5baab-85a1-4aed-865d-d8a324afe4a4",
   "metadata": {},
   "outputs": [],
   "source": [
    "analyze_sentiment(GCS_FILE_PATH)"
   ]
  },
  {
   "cell_type": "markdown",
   "id": "82df4c6e-d22b-4e83-a83b-1f8cd3aa6461",
   "metadata": {},
   "source": [
    "#### Analyze Entities"
   ]
  },
  {
   "cell_type": "code",
   "execution_count": 34,
   "id": "0f52db1e-dcba-4b38-9f8e-c78772261603",
   "metadata": {},
   "outputs": [],
   "source": [
    "def analyze_entities(gcs_file_uri):\n",
    "    \"\"\"\n",
    "    Analyzing Entities in text file stored in Cloud Storage\n",
    "\n",
    "    Args:\n",
    "      gcs_content_uri Google Cloud Storage URI where the file content is located.\n",
    "    \"\"\"\n",
    "    \n",
    "    client = language_v1.LanguageServiceClient()\n",
    "    type_ = language_v1.Document.Type.PLAIN_TEXT # Can use HTML & PLAIN_TEXT\n",
    "\n",
    "    language = \"en\"\n",
    "    document = {\n",
    "        \"gcs_content_uri\": gcs_file_uri,\n",
    "        \"type_\": type_,\n",
    "        \"language\": language,\n",
    "    }\n",
    "    \n",
    "    encoding_type = language_v1.EncodingType.UTF8\n",
    "\n",
    "    entities = client.analyze_entities(\n",
    "        request={\"document\": document, \"encoding_type\": encoding_type}\n",
    "    )\n",
    "    \n",
    "    print(entities)"
   ]
  },
  {
   "cell_type": "code",
   "execution_count": null,
   "id": "ede0fa00-0f30-4b1d-b67d-5c3b781bf908",
   "metadata": {},
   "outputs": [],
   "source": [
    "analyze_entities(GCS_FILE_PATH)"
   ]
  },
  {
   "cell_type": "markdown",
   "id": "676ac53b-d3da-4c55-bcc7-e7b0731b82b5",
   "metadata": {},
   "source": [
    "#### Analyze entity sentiment"
   ]
  },
  {
   "cell_type": "code",
   "execution_count": 41,
   "id": "79552dda-aed5-409b-afff-692ab3d546c7",
   "metadata": {},
   "outputs": [],
   "source": [
    "def analyze_entity_sentiment(gcs_file_uri):\n",
    "    \"\"\"\n",
    "    Analyzing Entity Sentiment in a String\n",
    "\n",
    "    Args:\n",
    "      text_content The text content to analyze\n",
    "    \"\"\"\n",
    "\n",
    "    client = language_v1.LanguageServiceClient()\n",
    "    type_ = language_v1.Document.Type.PLAIN_TEXT # Can use HTML & PLAIN_TEXT\n",
    "    language = \"en\"\n",
    "    document = {\n",
    "            \"gcs_content_uri\": gcs_file_uri,\n",
    "            \"type_\": type_,\n",
    "            \"language\": language,\n",
    "        }\n",
    "    \n",
    "    entity_sentiment = client.analyze_entity_sentiment(\n",
    "        request={\"document\": document}\n",
    "        )\n",
    "        \n",
    "    print(entity_sentiment)"
   ]
  },
  {
   "cell_type": "code",
   "execution_count": null,
   "id": "da15ce2b-f396-4a4f-af29-0feb016ce8bb",
   "metadata": {},
   "outputs": [],
   "source": [
    "analyze_entity_sentiment(GCS_FILE_PATH)"
   ]
  },
  {
   "cell_type": "markdown",
   "id": "b60ef5b7-3e4a-4fcc-8fa3-7cbccfbb4bef",
   "metadata": {},
   "source": [
    "#### Content classification"
   ]
  },
  {
   "cell_type": "code",
   "execution_count": 45,
   "id": "cfb653a6-65bf-4b32-9146-e881843b8945",
   "metadata": {},
   "outputs": [],
   "source": [
    "def classify_content(gcs_file_uri):\n",
    "    \"\"\"\n",
    "    Classifying Content in a String\n",
    "\n",
    "    Args:\n",
    "      text_content The text content to analyze.\n",
    "    \"\"\"\n",
    "    \n",
    "    client = language_v1.LanguageServiceClient()\n",
    "    type_ = language_v1.Document.Type.PLAIN_TEXT # Can use HTML & PLAIN_TEXT\n",
    "    language = \"en\"\n",
    "    document = {\n",
    "            \"gcs_content_uri\": gcs_file_uri,\n",
    "            \"type_\": type_,\n",
    "            \"language\": language,\n",
    "        }\n",
    "    \n",
    "    content_categories_version = (\n",
    "        language_v1.ClassificationModelOptions.V2Model.ContentCategoriesVersion.V2\n",
    "    )\n",
    "        \n",
    "    response = client.classify_text(\n",
    "        request={\"document\": document\n",
    "            }\n",
    "    )\n",
    "    \n",
    "    print(response)"
   ]
  },
  {
   "cell_type": "code",
   "execution_count": 46,
   "id": "1d5ce89d-b429-4545-9b5f-7998ff234f16",
   "metadata": {},
   "outputs": [
    {
     "name": "stdout",
     "output_type": "stream",
     "text": [
      "categories {\n",
      "  name: \"/Arts & Entertainment\"\n",
      "  confidence: 0.8299999833106995\n",
      "}\n",
      "\n"
     ]
    }
   ],
   "source": [
    "classify_content(GCS_FILE_PATH)"
   ]
  },
  {
   "cell_type": "code",
   "execution_count": null,
   "id": "af62cf69-b97d-4c8c-b672-423bd5566bd6",
   "metadata": {},
   "outputs": [],
   "source": []
  }
 ],
 "metadata": {
  "environment": {
   "kernel": "python3",
   "name": "tf2-gpu.2-8.m91",
   "type": "gcloud",
   "uri": "gcr.io/deeplearning-platform-release/tf2-gpu.2-8:m91"
  },
  "kernelspec": {
   "display_name": "Python 3",
   "language": "python",
   "name": "python3"
  },
  "language_info": {
   "codemirror_mode": {
    "name": "ipython",
    "version": 3
   },
   "file_extension": ".py",
   "mimetype": "text/x-python",
   "name": "python",
   "nbconvert_exporter": "python",
   "pygments_lexer": "ipython3",
   "version": "3.7.12"
  }
 },
 "nbformat": 4,
 "nbformat_minor": 5
}
