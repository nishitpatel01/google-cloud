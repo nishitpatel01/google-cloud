{
 "cells": [
  {
   "cell_type": "markdown",
   "id": "1686ab7b-ed67-4038-89c8-a69af2d97967",
   "metadata": {},
   "source": [
    "# Prompting Techniques for Large Language Models"
   ]
  },
  {
   "cell_type": "markdown",
   "id": "5693864a-e75d-4c23-8c6f-621d3a4b386d",
   "metadata": {},
   "source": [
    "## Summary\n",
    "\n",
    "\n",
    "This notebook covers introduction to prompt and different techniques you can use for prompting when using LLMs for your use case. \n",
    "\n",
    "Prompt Engineering, also known as In-Context Prompting, refers to methods for how to communicate with LLM to steer its behavior for desired outcomes without updating the model weights."
   ]
  },
  {
   "cell_type": "code",
   "execution_count": null,
   "id": "ac33d7a3-048c-435c-9175-fb32a401a600",
   "metadata": {},
   "outputs": [],
   "source": []
  }
 ],
 "metadata": {
  "environment": {
   "kernel": "python3",
   "name": "tf2-gpu.2-8.m91",
   "type": "gcloud",
   "uri": "gcr.io/deeplearning-platform-release/tf2-gpu.2-8:m91"
  },
  "kernelspec": {
   "display_name": "Python 3",
   "language": "python",
   "name": "python3"
  },
  "language_info": {
   "codemirror_mode": {
    "name": "ipython",
    "version": 3
   },
   "file_extension": ".py",
   "mimetype": "text/x-python",
   "name": "python",
   "nbconvert_exporter": "python",
   "pygments_lexer": "ipython3",
   "version": "3.7.12"
  }
 },
 "nbformat": 4,
 "nbformat_minor": 5
}
