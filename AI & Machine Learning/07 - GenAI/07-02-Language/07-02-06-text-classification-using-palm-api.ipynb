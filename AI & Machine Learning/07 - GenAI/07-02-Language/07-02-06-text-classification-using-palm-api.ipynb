{
 "cells": [
  {
   "cell_type": "markdown",
   "id": "e6ec216b-6292-4cb2-9d7a-32f5220c35ab",
   "metadata": {},
   "source": [
    "Coming Soon!"
   ]
  },
  {
   "cell_type": "code",
   "execution_count": null,
   "id": "91b6f5de-1ff6-44e2-b68f-f1e8facbd927",
   "metadata": {},
   "outputs": [],
   "source": []
  }
 ],
 "metadata": {
  "environment": {
   "kernel": "python3",
   "name": "tf2-gpu.2-8.m91",
   "type": "gcloud",
   "uri": "gcr.io/deeplearning-platform-release/tf2-gpu.2-8:m91"
  },
  "kernelspec": {
   "display_name": "Python 3",
   "language": "python",
   "name": "python3"
  },
  "language_info": {
   "codemirror_mode": {
    "name": "ipython",
    "version": 3
   },
   "file_extension": ".py",
   "mimetype": "text/x-python",
   "name": "python",
   "nbconvert_exporter": "python",
   "pygments_lexer": "ipython3",
   "version": "3.7.12"
  }
 },
 "nbformat": 4,
 "nbformat_minor": 5
}
