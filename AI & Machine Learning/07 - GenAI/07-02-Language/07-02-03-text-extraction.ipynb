{
 "cells": [
  {
   "cell_type": "markdown",
   "id": "e8ec8f04-339c-4cf6-a591-0c59bc30ab61",
   "metadata": {},
   "source": [
    "# Extract and Organize Information using Genenrative AI"
   ]
  },
  {
   "cell_type": "markdown",
   "id": "389d967b-d63b-452c-b029-c2866c562f65",
   "metadata": {},
   "source": [
    "Coming Soon!"
   ]
  },
  {
   "cell_type": "code",
   "execution_count": null,
   "id": "7fe6b02a-7e9c-48d6-b823-038ec94b9f3c",
   "metadata": {},
   "outputs": [],
   "source": []
  }
 ],
 "metadata": {
  "environment": {
   "kernel": "python3",
   "name": "tf2-gpu.2-8.m91",
   "type": "gcloud",
   "uri": "gcr.io/deeplearning-platform-release/tf2-gpu.2-8:m91"
  },
  "kernelspec": {
   "display_name": "Python 3",
   "language": "python",
   "name": "python3"
  },
  "language_info": {
   "codemirror_mode": {
    "name": "ipython",
    "version": 3
   },
   "file_extension": ".py",
   "mimetype": "text/x-python",
   "name": "python",
   "nbconvert_exporter": "python",
   "pygments_lexer": "ipython3",
   "version": "3.7.12"
  }
 },
 "nbformat": 4,
 "nbformat_minor": 5
}
