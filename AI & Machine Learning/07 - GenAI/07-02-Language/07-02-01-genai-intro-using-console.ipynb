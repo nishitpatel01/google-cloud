{
 "cells": [
  {
   "cell_type": "markdown",
   "id": "bfac734d-a3fb-41c1-9463-f20e6f4d0119",
   "metadata": {},
   "source": [
    "# Introduction to Gogole cloud Generative AI (PaLM API) using Google cloud console"
   ]
  },
  {
   "cell_type": "markdown",
   "id": "c7fd1249-b21b-4866-b492-984c8910965d",
   "metadata": {},
   "source": [
    "### Summary\n",
    "\n",
    "This notebooks provides introductory overview of Generative AI studio models within Vertex AI. The notebook also demonstrates how to get started with these models using UI. "
   ]
  },
  {
   "cell_type": "code",
   "execution_count": null,
   "id": "91c0fc7a-e1dd-4946-b1b0-300d1c43e384",
   "metadata": {},
   "outputs": [],
   "source": []
  }
 ],
 "metadata": {
  "environment": {
   "kernel": "python3",
   "name": "tf2-gpu.2-8.m91",
   "type": "gcloud",
   "uri": "gcr.io/deeplearning-platform-release/tf2-gpu.2-8:m91"
  },
  "kernelspec": {
   "display_name": "Python 3",
   "language": "python",
   "name": "python3"
  },
  "language_info": {
   "codemirror_mode": {
    "name": "ipython",
    "version": 3
   },
   "file_extension": ".py",
   "mimetype": "text/x-python",
   "name": "python",
   "nbconvert_exporter": "python",
   "pygments_lexer": "ipython3",
   "version": "3.7.12"
  }
 },
 "nbformat": 4,
 "nbformat_minor": 5
}
