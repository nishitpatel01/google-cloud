{
 "cells": [
  {
   "cell_type": "markdown",
   "id": "4507b129-9646-4e3c-b00c-8f28bcde3edc",
   "metadata": {},
   "source": [
    "# Introduction to Google cloud Generative AI (PaLM API) using Python SDK"
   ]
  },
  {
   "cell_type": "markdown",
   "id": "c7fd1249-b21b-4866-b492-984c8910965d",
   "metadata": {},
   "source": [
    "### Summary\n",
    "\n",
    "This notebooks provides introductory overview of Generative AI studio models within Vertex AI. The notebook also demonstrates how to get started with these models using Python SDK. "
   ]
  },
  {
   "cell_type": "markdown",
   "id": "663d700b-fc7a-4b86-b16c-8066b679f98e",
   "metadata": {},
   "source": [
    "### Overview"
   ]
  },
  {
   "cell_type": "markdown",
   "id": "089c4108-329f-43b0-8bad-ca547597cc8b",
   "metadata": {},
   "source": [
    "Google cloud provides Generative AI services to build large language model based applications via **GenAI Studio**, **Model Garden** and **GenAI App Builder** within Vertex AI. All of the models within these services are powered by **PaLM2**."
   ]
  },
  {
   "cell_type": "markdown",
   "id": "4445a0ca-a782-42b5-bde9-dc328d04ca17",
   "metadata": {},
   "source": [
    "#### PaLM2"
   ]
  },
  {
   "cell_type": "markdown",
   "id": "3ce95fad-6922-47cf-9adb-8b59ef7e51c0",
   "metadata": {},
   "source": [
    "[PaLM 2](https://ai.google/discover/palm2/) is Google's next generation large language model that builds on Google’s legacy of breakthrough research in machine learning and responsible AI.\n",
    "\n",
    "It excels at advanced reasoning tasks, including code and math, classification and question answering, translation and multilingual proficiency, and natural language generation better than our previous state-of-the-art LLMs, including PaLM. It can accomplish these tasks because of the way it was built – bringing together compute-optimal scaling, an improved dataset mixture, and model architecture improvements.\n",
    "\n",
    "PaLM 2 is grounded in Google’s approach to building and deploying AI responsibly. It was evaluated rigorously for its potential harms and biases, capabilities and downstream uses in research and in-product applications. It’s being used in other state-of-the-art models, like Med-PaLM 2 and Sec-PaLM, and is powering generative AI features and tools at Google, like Bard and the PaLM API.\n",
    "\n",
    "\n",
    "PaLM is pre-trained on a wide range of text data using an unsupervised learning approach, without any specific task. During this pre-training process, PaLM learns to predict the next word in a sentence, given the preceding words. This enables the model to generate coherent, fluent text resembling human writing. This large size enables it to learn complex patterns and relationships in language and generate high-quality text for various applications. This is why models like PaLM are referred to as \"foundational models.\"\n",
    "\n",
    "Creating an LLM requires massive amounts of data, significant compute resources, and specialized skills. Because LLMs require a big investment to create, they target broad rather than specific use cases. On Vertex AI, you can customize a foundation model for more specific tasks or knowledge domains by using prompt design and model tuning.\n"
   ]
  },
  {
   "cell_type": "markdown",
   "id": "2d2f3af2-7f16-4799-a8b4-5c75e2af8441",
   "metadata": {},
   "source": [
    "### Objectives"
   ]
  },
  {
   "cell_type": "markdown",
   "id": "03344528-266a-4ce5-b9e8-092ead2c2fa4",
   "metadata": {},
   "source": [
    "User can interact with Vertex PaLM API in following ways:\n",
    "    \n",
    "* Using Google cloud console \n",
    "* Using Curl commands\n",
    "* Using Python SDK\n",
    "\n",
    "This notebook covers accessing PaLM API using Python SDK. "
   ]
  },
  {
   "cell_type": "markdown",
   "id": "df5e9fbd-82e8-4764-9694-d0f4b1b9b661",
   "metadata": {},
   "source": [
    "### Getting started"
   ]
  },
  {
   "cell_type": "code",
   "execution_count": null,
   "id": "bfae2f93-83c9-4e51-a2ad-1c62030bbd21",
   "metadata": {},
   "outputs": [],
   "source": []
  }
 ],
 "metadata": {
  "environment": {
   "kernel": "python3",
   "name": "tf2-gpu.2-8.m91",
   "type": "gcloud",
   "uri": "gcr.io/deeplearning-platform-release/tf2-gpu.2-8:m91"
  },
  "kernelspec": {
   "display_name": "Python 3",
   "language": "python",
   "name": "python3"
  },
  "language_info": {
   "codemirror_mode": {
    "name": "ipython",
    "version": 3
   },
   "file_extension": ".py",
   "mimetype": "text/x-python",
   "name": "python",
   "nbconvert_exporter": "python",
   "pygments_lexer": "ipython3",
   "version": "3.7.12"
  }
 },
 "nbformat": 4,
 "nbformat_minor": 5
}
