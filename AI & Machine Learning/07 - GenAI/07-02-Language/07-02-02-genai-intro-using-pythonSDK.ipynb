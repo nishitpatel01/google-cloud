{
 "cells": [
  {
   "cell_type": "markdown",
   "id": "5b9efd87-3cd4-496a-9a91-e68a2561a888",
   "metadata": {},
   "source": [
    "# Introduction to Google cloud Generative AI (PaLM API) using Python SDK"
   ]
  },
  {
   "cell_type": "markdown",
   "id": "5cf30f95-dbd3-4ee0-8655-35e1fe30370c",
   "metadata": {},
   "source": [
    "### Summary\n",
    "\n",
    "This notebooks provides introductory overview of Generative AI studio models within Vertex AI. The notebook also demonstrates how to get started with these models using python sdk. "
   ]
  }
 ],
 "metadata": {
  "environment": {
   "kernel": "python3",
   "name": "tf2-gpu.2-8.m91",
   "type": "gcloud",
   "uri": "gcr.io/deeplearning-platform-release/tf2-gpu.2-8:m91"
  },
  "kernelspec": {
   "display_name": "Python 3",
   "language": "python",
   "name": "python3"
  },
  "language_info": {
   "codemirror_mode": {
    "name": "ipython",
    "version": 3
   },
   "file_extension": ".py",
   "mimetype": "text/x-python",
   "name": "python",
   "nbconvert_exporter": "python",
   "pygments_lexer": "ipython3",
   "version": "3.7.12"
  }
 },
 "nbformat": 4,
 "nbformat_minor": 5
}
