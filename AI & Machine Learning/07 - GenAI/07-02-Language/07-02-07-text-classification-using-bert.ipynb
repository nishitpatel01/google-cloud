{
 "cells": [
  {
   "cell_type": "markdown",
   "id": "4897a2a5-3733-4655-a126-18d226cdc0e3",
   "metadata": {},
   "source": [
    "Coming Soon!"
   ]
  },
  {
   "cell_type": "code",
   "execution_count": null,
   "id": "fa6e357c-22a1-4aa5-9ca7-60ee9d5e1417",
   "metadata": {},
   "outputs": [],
   "source": []
  }
 ],
 "metadata": {
  "environment": {
   "kernel": "python3",
   "name": "tf2-gpu.2-8.m91",
   "type": "gcloud",
   "uri": "gcr.io/deeplearning-platform-release/tf2-gpu.2-8:m91"
  },
  "kernelspec": {
   "display_name": "Python 3",
   "language": "python",
   "name": "python3"
  },
  "language_info": {
   "codemirror_mode": {
    "name": "ipython",
    "version": 3
   },
   "file_extension": ".py",
   "mimetype": "text/x-python",
   "name": "python",
   "nbconvert_exporter": "python",
   "pygments_lexer": "ipython3",
   "version": "3.7.12"
  }
 },
 "nbformat": 4,
 "nbformat_minor": 5
}
