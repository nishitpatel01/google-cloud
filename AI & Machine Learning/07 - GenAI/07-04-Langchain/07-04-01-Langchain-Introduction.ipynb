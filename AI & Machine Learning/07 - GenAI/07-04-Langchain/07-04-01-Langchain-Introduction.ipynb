{
 "cells": [
  {
   "cell_type": "markdown",
   "id": "b071fad7-8928-43b4-bc07-c215981ac621",
   "metadata": {},
   "source": [
    "# Gentle Introduction to Langchain"
   ]
  },
  {
   "cell_type": "markdown",
   "id": "79441670-f059-4789-ad86-830d6054521f",
   "metadata": {},
   "source": [
    "## Summary\n",
    "\n",
    "This notebook products introduction to Langchain and its core concepts and components with easy to follow examples"
   ]
  },
  {
   "cell_type": "code",
   "execution_count": null,
   "id": "80de8667-b358-4199-bf14-4cf39301d6a3",
   "metadata": {},
   "outputs": [],
   "source": []
  }
 ],
 "metadata": {
  "environment": {
   "kernel": "python3",
   "name": "tf2-gpu.2-8.m91",
   "type": "gcloud",
   "uri": "gcr.io/deeplearning-platform-release/tf2-gpu.2-8:m91"
  },
  "kernelspec": {
   "display_name": "Python 3",
   "language": "python",
   "name": "python3"
  },
  "language_info": {
   "codemirror_mode": {
    "name": "ipython",
    "version": 3
   },
   "file_extension": ".py",
   "mimetype": "text/x-python",
   "name": "python",
   "nbconvert_exporter": "python",
   "pygments_lexer": "ipython3",
   "version": "3.7.12"
  }
 },
 "nbformat": 4,
 "nbformat_minor": 5
}
