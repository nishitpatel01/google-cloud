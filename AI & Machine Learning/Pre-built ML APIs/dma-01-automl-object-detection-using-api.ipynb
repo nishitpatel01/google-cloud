{
 "cells": [
  {
   "cell_type": "markdown",
   "id": "6d06a897-b9f7-4ca1-8d6b-581574ceccbd",
   "metadata": {},
   "source": [
    "# Fraud detection playground"
   ]
  },
  {
   "cell_type": "markdown",
   "id": "1c66d295-12f5-4374-9251-c43ae6980e88",
   "metadata": {},
   "source": [
    "## This notebook contains only the test code to support the prod version of notebook"
   ]
  },
  {
   "cell_type": "markdown",
   "id": "09f771f1-badb-4c36-89cc-de64500035b3",
   "metadata": {},
   "source": [
    "### Extract metadata and annotations for an already created image dataset"
   ]
  },
  {
   "cell_type": "code",
   "execution_count": 18,
   "id": "d524dba5-d90f-4e78-ab7e-4a4240421762",
   "metadata": {},
   "outputs": [],
   "source": [
    "# Loading library\n",
    "\n",
    "from typing import List, Union\n",
    "import json\n",
    "import requests\n",
    "import base64\n",
    "\n",
    "#from oauth2client.client import GoogleCredentials\n",
    "from google.cloud import bigquery\n",
    "from google.cloud import aiplatform\n",
    "from google.cloud.aiplatform.gapic.schema import trainingjob, predict"
   ]
  },
  {
   "cell_type": "code",
   "execution_count": 19,
   "id": "a94cb1e0-c058-4169-93d7-c7fd18bba68b",
   "metadata": {},
   "outputs": [],
   "source": [
    "LOCATION = \"us-central1\" \n",
    "PROJECT_ID = \"nishitp-daml\"\n",
    "DATASET_ID = \"4715062101670887424\"\n",
    "EXPORT_DIRECTORY = \"gs://ds-ml-demos/packages-image-metadata/\"\n",
    "ANNOTATION_SET_ID = \"package-classification_iod\"\n",
    "FILTER = f\"labels.aiplatform.googleapis.com/annotation_set_name={ANNOTATION_SET_ID}\""
   ]
  },
  {
   "cell_type": "code",
   "execution_count": 4,
   "id": "fd4fa147-83a3-4982-8b2e-d0ae9cf0cd90",
   "metadata": {},
   "outputs": [],
   "source": [
    "# Helper function\n",
    "\n",
    "def query_ts(method, endpoint, data, auth_token):\n",
    "    data = str(data)\n",
    "    headers = {'Content-type': 'application/json', \"Authorization\": f\"Bearer {auth_token}\"}\n",
    "    \n",
    "    if method == \"GET\":\n",
    "        resp = requests.get(endpoint, headers=headers)\n",
    "    if method == \"POST\":\n",
    "        resp = requests.post(endpoint, data=data, headers=headers)\n",
    "    if method == \"DELETE\":\n",
    "        resp = requests.delete(endpoint, headers=headers)\n",
    "    \n",
    "    return(resp.json())"
   ]
  },
  {
   "cell_type": "code",
   "execution_count": null,
   "id": "e7dd4c08-64b1-4a0f-b585-a279af6e1681",
   "metadata": {},
   "outputs": [],
   "source": [
    "# Loading credentials into auth_token - this is temp token that needs to be refreshed\n",
    "token=GoogleCredentials.get_application_default().get_access_token().access_token\n",
    "token"
   ]
  },
  {
   "cell_type": "code",
   "execution_count": 6,
   "id": "71c20060-2af6-4755-829a-8829dc305f14",
   "metadata": {},
   "outputs": [
    {
     "name": "stdout",
     "output_type": "stream",
     "text": [
      "Overwriting files/annotate_payload.json\n"
     ]
    }
   ],
   "source": [
    "%%writefile files/annotate_payload.json\n",
    "\n",
    "{\n",
    "  \"exportConfig\": {\n",
    "    \"gcsDestination\": {\n",
    "      \"outputUriPrefix\": \"gs://ds-ml-demos/packages-image-metadata/\"\n",
    "    },\n",
    "    \"annotationsFilter\": \"labels.aiplatform.googleapis.com/annotation_set_name=package-classification_iod\"\n",
    "  }\n",
    "}\n"
   ]
  },
  {
   "cell_type": "code",
   "execution_count": 7,
   "id": "83bf1cee-cdee-4f52-9473-ebf4c6adddb0",
   "metadata": {},
   "outputs": [
    {
     "name": "stdout",
     "output_type": "stream",
     "text": [
      "\n",
      "{\n",
      "  \"exportConfig\": {\n",
      "    \"gcsDestination\": {\n",
      "      \"outputUriPrefix\": \"gs://ds-ml-demos/packages-image-metadata/\"\n",
      "    },\n",
      "    \"annotationsFilter\": \"labels.aiplatform.googleapis.com/annotation_set_name=package-classification_iod\"\n",
      "  }\n",
      "}\n",
      "\n"
     ]
    }
   ],
   "source": [
    "with open('files/annotate_payload.json', 'r') as myfile:\n",
    "    data=myfile.read()\n",
    "    \n",
    "print(data)"
   ]
  },
  {
   "cell_type": "code",
   "execution_count": 8,
   "id": "07e0fbe5-99e1-4d7c-b86c-e0b4ac69e58a",
   "metadata": {},
   "outputs": [],
   "source": [
    "# api endpoint for annotation extration\n",
    "api_endpoint = f\"https://{LOCATION}-aiplatform.googleapis.com/v1/projects/{PROJECT_ID}/locations/{LOCATION}/datasets/{DATASET_ID}:export\""
   ]
  },
  {
   "cell_type": "code",
   "execution_count": 10,
   "id": "19eaabce-084b-4f07-a00b-3b95b5a0a7c9",
   "metadata": {},
   "outputs": [
    {
     "data": {
      "text/plain": [
       "{'name': 'projects/474014863033/locations/us-central1/datasets/4715062101670887424/operations/6243958377580331008',\n",
       " 'metadata': {'@type': 'type.googleapis.com/google.cloud.aiplatform.v1.ExportDataOperationMetadata',\n",
       "  'genericMetadata': {'createTime': '2022-01-23T19:08:47.443266Z',\n",
       "   'updateTime': '2022-01-23T19:08:47.443266Z'},\n",
       "  'gcsOutputDirectory': 'gs://ds-ml-demos/packages-image-metadata/export-data-package-classification-2022-01-23T19:08:47.403208Z'}}"
      ]
     },
     "execution_count": 10,
     "metadata": {},
     "output_type": "execute_result"
    }
   ],
   "source": [
    "# DO NOT RUN - DATASET ALREADY CREATED\n",
    "# Call api to extract the annotations and save in gcs file\n",
    "\n",
    "# Create dataset \n",
    "res = query_ts(method=\"POST\", endpoint=api_endpoint, data=data, auth_token=token)\n",
    "res"
   ]
  },
  {
   "cell_type": "code",
   "execution_count": 9,
   "id": "a08c1c50-7179-4ff5-8907-7585433b4998",
   "metadata": {},
   "outputs": [],
   "source": [
    "file_path = \"gs://ds-ml-demos/packages-image-metadata/export-data-package-classification-2022-01-25T01:28:18.411854Z/image_bounding_box/package-classification_iod-1108241750100541440/data-00001-of-00001.jsonl\""
   ]
  },
  {
   "cell_type": "code",
   "execution_count": 10,
   "id": "fb78e161-7f8e-4a30-913c-0e751b91348d",
   "metadata": {},
   "outputs": [],
   "source": [
    "# Create Vertex AI dataset using api\n",
    "\n",
    "def create_package_size_image_dataset(\n",
    "    project: str,\n",
    "    location: str,\n",
    "    display_name: str,\n",
    "    src_uris: str,\n",
    "    sync: bool = True,\n",
    "):\n",
    "\n",
    "    aiplatform.init(project=project, location=location)\n",
    "\n",
    "    ds = aiplatform.ImageDataset.create(\n",
    "        display_name=display_name,\n",
    "        gcs_source=src_uris,\n",
    "        import_schema_uri=\"gs://google-cloud-aiplatform/schema/dataset/ioformat/image_bounding_box_io_format_1.0.0.yaml\", # uri for image object detection schema standard\n",
    "        sync=sync,\n",
    "    )\n",
    "\n",
    "    ds.wait()\n",
    "\n",
    "    print(ds.display_name)\n",
    "    print(ds.resource_name)\n",
    "    return ds\n"
   ]
  },
  {
   "cell_type": "code",
   "execution_count": null,
   "id": "3a3c3632-3ede-4187-9a3b-733d39bbfa06",
   "metadata": {},
   "outputs": [],
   "source": [
    "#read json file to check access\n",
    "\n",
    "# Reading gcs files with gcsfs\n",
    "import gcsfs\n",
    "import json\n",
    "\n",
    "gcs_file_system = gcsfs.GCSFileSystem(project=PROJECT_ID)\n",
    "gcs_json_path = \"gs://ds-ml-demos/packages-image-metadata/export-data-package-classification-2022-01-22T22:38:45.715670Z/data-00001-of-00001.jsonl\"\n",
    "\n",
    "with gcs_file_system.open(gcs_json_path) as f:\n",
    "    json_dict = json.load(f)"
   ]
  },
  {
   "cell_type": "code",
   "execution_count": 11,
   "id": "8ec21cbe-cc75-4a4e-acf6-be9dd610519a",
   "metadata": {},
   "outputs": [
    {
     "name": "stdout",
     "output_type": "stream",
     "text": [
      "INFO:google.cloud.aiplatform.datasets.dataset:Creating ImageDataset\n",
      "INFO:google.cloud.aiplatform.datasets.dataset:Create ImageDataset backing LRO: projects/474014863033/locations/us-central1/datasets/2303525238702342144/operations/8587942895405760512\n",
      "INFO:google.cloud.aiplatform.datasets.dataset:ImageDataset created. Resource name: projects/474014863033/locations/us-central1/datasets/2303525238702342144\n",
      "INFO:google.cloud.aiplatform.datasets.dataset:To use this ImageDataset in another session:\n",
      "INFO:google.cloud.aiplatform.datasets.dataset:ds = aiplatform.ImageDataset('projects/474014863033/locations/us-central1/datasets/2303525238702342144')\n",
      "INFO:google.cloud.aiplatform.datasets.dataset:Importing ImageDataset data: projects/474014863033/locations/us-central1/datasets/2303525238702342144\n",
      "INFO:google.cloud.aiplatform.datasets.dataset:Import ImageDataset data backing LRO: projects/474014863033/locations/us-central1/datasets/2303525238702342144/operations/8727554483854245888\n",
      "INFO:google.cloud.aiplatform.datasets.dataset:ImageDataset data imported. Resource name: projects/474014863033/locations/us-central1/datasets/2303525238702342144\n",
      "package-detection-ds\n",
      "projects/474014863033/locations/us-central1/datasets/2303525238702342144\n"
     ]
    },
    {
     "data": {
      "text/plain": [
       "<google.cloud.aiplatform.datasets.image_dataset.ImageDataset object at 0x7f6f908c2090> \n",
       "resource name: projects/474014863033/locations/us-central1/datasets/2303525238702342144"
      ]
     },
     "execution_count": 11,
     "metadata": {},
     "output_type": "execute_result"
    }
   ],
   "source": [
    "# Call API to create dataset in Vertex AI\n",
    "create_package_size_image_dataset(PROJECT_ID, LOCATION, \"package-detection-ds\", file_path)"
   ]
  },
  {
   "cell_type": "markdown",
   "id": "f40e05ab-be2d-4991-9937-fba6dda3eb7e",
   "metadata": {},
   "source": [
    "## TRAINING FROM HERE"
   ]
  },
  {
   "cell_type": "code",
   "execution_count": 20,
   "id": "4d110c6b-a8cf-45cf-b834-2c64e23e38f1",
   "metadata": {},
   "outputs": [],
   "source": [
    "# Training automl function\n",
    "\n",
    "def create_training_pipeline_image_object_detection_sample(\n",
    "    project: str,\n",
    "    display_name: str,\n",
    "    dataset_id: str,\n",
    "    model_display_name: str,\n",
    "    location: str = \"us-central1\",\n",
    "    api_endpoint: str = \"us-central1-aiplatform.googleapis.com\",\n",
    "):\n",
    "    # The AI Platform services require regional API endpoints.\n",
    "    client_options = {\"api_endpoint\": api_endpoint}\n",
    "    # Initialize client that will be used to create and send requests.\n",
    "    # This client only needs to be created once, and can be reused for multiple requests.\n",
    "    client = aiplatform.gapic.PipelineServiceClient(client_options=client_options)\n",
    "    training_task_inputs = trainingjob.definition.AutoMlImageObjectDetectionInputs(\n",
    "        model_type=\"CLOUD_HIGH_ACCURACY_1\",\n",
    "        budget_milli_node_hours=20000,\n",
    "        disable_early_stopping=False,\n",
    "    ).to_value()\n",
    "\n",
    "    training_pipeline = {\n",
    "        \"display_name\": display_name,\n",
    "        \"training_task_definition\": \"gs://google-cloud-aiplatform/schema/trainingjob/definition/automl_image_object_detection_1.0.0.yaml\",\n",
    "        \"training_task_inputs\": training_task_inputs,\n",
    "        \"input_data_config\": {\"dataset_id\": dataset_id},\n",
    "        \"model_to_upload\": {\"display_name\": model_display_name},\n",
    "    }\n",
    "    parent = f\"projects/{project}/locations/{location}\"\n",
    "    response = client.create_training_pipeline(\n",
    "        parent=parent, training_pipeline=training_pipeline\n",
    "    )\n",
    "    print(\"response:\", response)\n"
   ]
  },
  {
   "cell_type": "code",
   "execution_count": 23,
   "id": "8f5bb63f-4a45-4022-ab7d-4498a19fda90",
   "metadata": {},
   "outputs": [
    {
     "name": "stdout",
     "output_type": "stream",
     "text": [
      "response: name: \"projects/474014863033/locations/us-central1/trainingPipelines/4377484544152961024\"\n",
      "display_name: \"package_size_detection_model2\"\n",
      "input_data_config {\n",
      "  dataset_id: \"4715062101670887424\"\n",
      "}\n",
      "training_task_definition: \"gs://google-cloud-aiplatform/schema/trainingjob/definition/automl_image_object_detection_1.0.0.yaml\"\n",
      "training_task_inputs {\n",
      "  struct_value {\n",
      "    fields {\n",
      "      key: \"budgetMilliNodeHours\"\n",
      "      value {\n",
      "        string_value: \"20000\"\n",
      "      }\n",
      "    }\n",
      "    fields {\n",
      "      key: \"modelType\"\n",
      "      value {\n",
      "        string_value: \"CLOUD_HIGH_ACCURACY_1\"\n",
      "      }\n",
      "    }\n",
      "  }\n",
      "}\n",
      "model_to_upload {\n",
      "  display_name: \"package_size_detection_model_test2\"\n",
      "}\n",
      "state: PIPELINE_STATE_PENDING\n",
      "create_time {\n",
      "  seconds: 1644339706\n",
      "  nanos: 31463000\n",
      "}\n",
      "update_time {\n",
      "  seconds: 1644339706\n",
      "  nanos: 31463000\n",
      "}\n",
      "\n"
     ]
    },
    {
     "ename": "AttributeError",
     "evalue": "'NoneType' object has no attribute 'name'",
     "output_type": "error",
     "traceback": [
      "\u001b[0;31m---------------------------------------------------------------------------\u001b[0m",
      "\u001b[0;31mAttributeError\u001b[0m                            Traceback (most recent call last)",
      "\u001b[0;32m/tmp/ipykernel_1/3484620307.py\u001b[0m in \u001b[0;36m<module>\u001b[0;34m\u001b[0m\n\u001b[1;32m      7\u001b[0m                                                        )\n\u001b[1;32m      8\u001b[0m \u001b[0mmodel\u001b[0m\u001b[0;34m\u001b[0m\u001b[0;34m\u001b[0m\u001b[0m\n\u001b[0;32m----> 9\u001b[0;31m \u001b[0mmodel\u001b[0m\u001b[0;34m.\u001b[0m\u001b[0mname\u001b[0m\u001b[0;34m\u001b[0m\u001b[0;34m\u001b[0m\u001b[0m\n\u001b[0m",
      "\u001b[0;31mAttributeError\u001b[0m: 'NoneType' object has no attribute 'name'"
     ]
    }
   ],
   "source": [
    "# Start the training pipeline \n",
    "\n",
    "model  = create_training_pipeline_image_object_detection_sample(PROJECT_ID,  \n",
    "                                                       \"package_size_detection_model2\", \n",
    "                                                       DATASET_ID,\n",
    "                                                       \"package_size_detection_model_test2\"\n",
    "                                                       )\n",
    "model\n",
    "model.name"
   ]
  },
  {
   "cell_type": "code",
   "execution_count": null,
   "id": "9482a7dc-0305-4566-b5e0-f2c758034fdf",
   "metadata": {},
   "outputs": [],
   "source": [
    "https://{service-endpoint}/v1/{name}"
   ]
  },
  {
   "cell_type": "markdown",
   "id": "4f47fa6a-cae6-40ed-bb73-1586e5dd68e3",
   "metadata": {},
   "source": [
    "## Model evaluation code here"
   ]
  },
  {
   "cell_type": "code",
   "execution_count": null,
   "id": "ba2eb60d-45ea-4035-9ff2-018ab5ce63ce",
   "metadata": {},
   "outputs": [],
   "source": [
    "# Funtion to get aggregated evaluation metrices\n",
    "\n",
    "\n",
    "def get_model_evaluation_image_object_detection_sample(\n",
    "    project: str,\n",
    "    model_id: str,\n",
    "    evaluation_id: str,\n",
    "    location: str = \"us-central1\",\n",
    "    api_endpoint: str = \"us-central1-aiplatform.googleapis.com\",\n",
    "):\n",
    "    \"\"\"\n",
    "    To obtain evaluation_id run the following commands where LOCATION\n",
    "    is the region where the model is stored, PROJECT is the project ID,\n",
    "    and MODEL_ID is the ID of your model.\n",
    "\n",
    "    model_client = aiplatform.gapic.ModelServiceClient(\n",
    "        client_options={\n",
    "            'api_endpoint':'LOCATION-aiplatform.googleapis.com'\n",
    "            }\n",
    "        )\n",
    "    evaluations = model_client.list_model_evaluations(parent='projects/PROJECT/locations/LOCATION/models/MODEL_ID')\n",
    "    print(\"evaluations:\", evaluations)\n",
    "    \"\"\"\n",
    "    # The AI Platform services require regional API endpoints.\n",
    "    client_options = {\"api_endpoint\": api_endpoint}\n",
    "    # Initialize client that will be used to create and send requests.\n",
    "    # This client only needs to be created once, and can be reused for multiple requests.\n",
    "    client = aiplatform.gapic.ModelServiceClient(client_options=client_options)\n",
    "    name = client.model_evaluation_path(\n",
    "        project=project, location=location, model=model_id, evaluation=evaluation_id\n",
    "    )\n",
    "    response = client.get_model_evaluation(name=name)\n",
    "    print(\"response:\", response)\n"
   ]
  },
  {
   "cell_type": "code",
   "execution_count": 22,
   "id": "31884a62-215b-4805-8215-559736cf8c55",
   "metadata": {},
   "outputs": [
    {
     "name": "stdout",
     "output_type": "stream",
     "text": [
      "projects/474014863033/locations/us-central1/models/5096003298276671488/evaluations/8279094133612609536\n",
      "8279094133612609536\n"
     ]
    },
    {
     "data": {
      "text/plain": [
       "'8279094133612609536'"
      ]
     },
     "execution_count": 22,
     "metadata": {},
     "output_type": "execute_result"
    }
   ],
   "source": [
    "# Get evaluation id\n",
    "import re\n",
    "\n",
    "model_client = aiplatform.gapic.ModelServiceClient(\n",
    "        client_options={\n",
    "            'api_endpoint':'us-central1-aiplatform.googleapis.com'\n",
    "            }\n",
    "        )\n",
    "\n",
    "evaluations = model_client.list_model_evaluations(parent=f'projects/{PROJECT_ID}/locations/{LOCATION}/models/5096003298276671488')  \n",
    "#print(evaluations)\n",
    "\n",
    "for val in evaluations:\n",
    "    print(val.name)\n",
    "    res = re.search('evaluations/(.*)', val.name)\n",
    "    print(res.group(1))\n",
    "    \n",
    "res.group(1)\n"
   ]
  },
  {
   "cell_type": "code",
   "execution_count": null,
   "id": "797baa76-795e-4ed4-b022-d07b60e63ea2",
   "metadata": {},
   "outputs": [],
   "source": [
    "get_model_evaluation_image_object_detection_sample(PROJECT_ID, \"5096003298276671488\", \"8279094133612609536\")"
   ]
  },
  {
   "cell_type": "code",
   "execution_count": null,
   "id": "3dad9410-a9ec-47c0-8621-ef0bcf8775fd",
   "metadata": {},
   "outputs": [],
   "source": [
    "# list all evaluation slices \n",
    "\n",
    "def list_model_evaluation_slices_sample(\n",
    "    project: str,\n",
    "    model_id: str,\n",
    "    evaluation_id: str,\n",
    "    location: str = \"us-central1\",\n",
    "    api_endpoint: str = \"us-central1-aiplatform.googleapis.com\",\n",
    "):\n",
    "    \"\"\"\n",
    "    To obtain evaluation_id run the following commands where LOCATION\n",
    "    is the region where the model is stored, PROJECT is the project ID,\n",
    "    and MODEL_ID is the ID of your model.\n",
    "\n",
    "    model_client = aiplatform.gapic.ModelServiceClient(\n",
    "        client_options={\n",
    "            'api_endpoint':'LOCATION-aiplatform.googleapis.com'\n",
    "            }\n",
    "        )\n",
    "    evaluations = model_client.list_model_evaluations(parent='projects/PROJECT/locations/LOCATION/models/MODEL_ID')\n",
    "    print(\"evaluations:\", evaluations)\n",
    "    \"\"\"\n",
    "    # The AI Platform services require regional API endpoints.\n",
    "    client_options = {\"api_endpoint\": api_endpoint}\n",
    "    # Initialize client that will be used to create and send requests.\n",
    "    # This client only needs to be created once, and can be reused for multiple requests.\n",
    "    client = aiplatform.gapic.ModelServiceClient(client_options=client_options)\n",
    "    parent = client.model_evaluation_path(\n",
    "        project=project, location=location, model=model_id, evaluation=evaluation_id\n",
    "    )\n",
    "    response = client.list_model_evaluation_slices(parent=parent)\n",
    "    for model_evaluation_slice in response:\n",
    "        print(\"model_evaluation_slice:\", model_evaluation_slice)\n"
   ]
  },
  {
   "cell_type": "code",
   "execution_count": null,
   "id": "abecd406-e955-421a-ad2f-3ea853aaf7b1",
   "metadata": {},
   "outputs": [],
   "source": [
    "list_model_evaluation_slices_sample(PROJECT_ID, \"5096003298276671488\", \"8279094133612609536\")"
   ]
  },
  {
   "cell_type": "code",
   "execution_count": null,
   "id": "c8fa7613-676a-458a-aeca-be8433795a2d",
   "metadata": {},
   "outputs": [],
   "source": [
    "# get metrics for single slice\n",
    "\n",
    "from google.cloud import aiplatform\n",
    "\n",
    "\n",
    "def get_model_evaluation_slice_sample(\n",
    "    project: str,\n",
    "    model_id: str,\n",
    "    evaluation_id: str,\n",
    "    slice_id: str,\n",
    "    location: str = \"us-central1\",\n",
    "    api_endpoint: str = \"us-central1-aiplatform.googleapis.com\",\n",
    "):\n",
    "    \"\"\"\n",
    "    To obtain evaluation_id run the following commands where LOCATION\n",
    "    is the region where the model is stored, PROJECT is the project ID,\n",
    "    and MODEL_ID is the ID of your model.\n",
    "\n",
    "    model_client = aiplatform.gapic.ModelServiceClient(\n",
    "        client_options={\n",
    "            'api_endpoint':'LOCATION-aiplatform.googleapis.com'\n",
    "            }\n",
    "        )\n",
    "    evaluations = model_client.list_model_evaluations(parent='projects/PROJECT/locations/LOCATION/models/MODEL_ID')\n",
    "    print(\"evaluations:\", evaluations)\n",
    "    \"\"\"\n",
    "    # The AI Platform services require regional API endpoints.\n",
    "    client_options = {\"api_endpoint\": api_endpoint}\n",
    "    # Initialize client that will be used to create and send requests.\n",
    "    # This client only needs to be created once, and can be reused for multiple requests.\n",
    "    client = aiplatform.gapic.ModelServiceClient(client_options=client_options)\n",
    "    name = client.model_evaluation_slice_path(\n",
    "        project=project,\n",
    "        location=location,\n",
    "        model=model_id,\n",
    "        evaluation=evaluation_id,\n",
    "        slice=slice_id,\n",
    "    )\n",
    "    response = client.get_model_evaluation_slice(name=name)\n",
    "    print(\"response:\", response)\n"
   ]
  },
  {
   "cell_type": "code",
   "execution_count": 15,
   "id": "59e782f2-8310-4a1e-a65f-c35d412ba5cc",
   "metadata": {},
   "outputs": [
    {
     "name": "stdout",
     "output_type": "stream",
     "text": [
      "Using endpoint [https://us-central1-aiplatform.googleapis.com/]\n",
      "ENDPOINT_ID         DISPLAY_NAME\n",
      "609331751927414784  package-object-detection-endpoint\n"
     ]
    }
   ],
   "source": [
    "! gcloud ai endpoints list \\\n",
    "  --region=\"us-central1\" \\\n",
    "  --filter=display_name=\"package-object-detection-endpoint\""
   ]
  },
  {
   "cell_type": "code",
   "execution_count": 25,
   "id": "4629cbc6-8051-4444-ad09-87a061c39926",
   "metadata": {},
   "outputs": [
    {
     "name": "stdout",
     "output_type": "stream",
     "text": [
      "5589020189002825728\n",
      "2221017886154031104\n"
     ]
    }
   ],
   "source": [
    "# Get evaluation id\n",
    "import re\n",
    "model_client = aiplatform.gapic.ModelServiceClient(\n",
    "        client_options={\n",
    "            'api_endpoint':'us-central1-aiplatform.googleapis.com'\n",
    "            }\n",
    "        )\n",
    "\n",
    "evaluations = model_client.list_model_evaluations(parent=f'projects/{PROJECT_ID}/locations/{LOCATION}/models/2221017886154031104')  \n",
    "for val in evaluations:\n",
    "    eval_group = re.search('evaluations/(.*)', val.name)\n",
    "    model_group = re.search('models/(.*)/evaluations', val.name)\n",
    "    \n",
    "eval_id = eval_group.group(1)\n",
    "model_id = model_group.group(1)\n",
    "\n",
    "\n",
    "print(eval_id)\n",
    "print(model_id)"
   ]
  },
  {
   "cell_type": "code",
   "execution_count": null,
   "id": "c2226800-5647-483d-8d21-82787997c21f",
   "metadata": {},
   "outputs": [],
   "source": [
    "model.resource_name"
   ]
  },
  {
   "cell_type": "code",
   "execution_count": null,
   "id": "ea06a2f1-e0f2-4400-9905-776a9a716782",
   "metadata": {},
   "outputs": [],
   "source": [
    "get_model_evaluation_slice_sample(PROJECT_ID, \"5096003298276671488\", \"8279094133612609536\", )"
   ]
  },
  {
   "cell_type": "markdown",
   "id": "84137668-9220-46ba-a5e3-3f9464e311a3",
   "metadata": {},
   "source": [
    "## Create an endpoint"
   ]
  },
  {
   "cell_type": "code",
   "execution_count": 7,
   "id": "64ae52ff-0fcf-4883-bca4-ad768eaa094a",
   "metadata": {},
   "outputs": [],
   "source": [
    "def create_endpoint_sample(\n",
    "    project: str, display_name: str, location: str,\n",
    "):\n",
    "    aiplatform.init(project=project, location=location)\n",
    "\n",
    "    endpoint = aiplatform.Endpoint.create(\n",
    "        display_name=display_name, project=project, location=location,\n",
    "    )\n",
    "\n",
    "    print(endpoint.display_name)\n",
    "    print(endpoint.resource_name)\n",
    "    return endpoint\n"
   ]
  },
  {
   "cell_type": "code",
   "execution_count": 18,
   "id": "7c79032c-b42c-47ee-b245-a9800b3fd4aa",
   "metadata": {},
   "outputs": [
    {
     "name": "stdout",
     "output_type": "stream",
     "text": [
      "INFO:google.cloud.aiplatform.models:Creating Endpoint\n",
      "INFO:google.cloud.aiplatform.models:Create Endpoint backing LRO: projects/474014863033/locations/us-central1/endpoints/5356970184106049536/operations/3280010929898520576\n",
      "INFO:google.cloud.aiplatform.models:Endpoint created. Resource name: projects/474014863033/locations/us-central1/endpoints/5356970184106049536\n",
      "INFO:google.cloud.aiplatform.models:To use this Endpoint in another session:\n",
      "INFO:google.cloud.aiplatform.models:endpoint = aiplatform.Endpoint('projects/474014863033/locations/us-central1/endpoints/5356970184106049536')\n",
      "test\n",
      "projects/474014863033/locations/us-central1/endpoints/5356970184106049536\n"
     ]
    },
    {
     "data": {
      "text/plain": [
       "<google.cloud.aiplatform.models.Endpoint object at 0x7fca1e87c790> \n",
       "resource name: projects/474014863033/locations/us-central1/endpoints/5356970184106049536"
      ]
     },
     "execution_count": 18,
     "metadata": {},
     "output_type": "execute_result"
    }
   ],
   "source": [
    "endpt = create_endpoint_sample(PROJECT_ID, \"test\", \"us-central1\")\n",
    "endpt"
   ]
  },
  {
   "cell_type": "code",
   "execution_count": 19,
   "id": "07e928d7-4e9d-4a53-ac56-49398f034025",
   "metadata": {},
   "outputs": [
    {
     "name": "stdout",
     "output_type": "stream",
     "text": [
      "endpoint: <google.cloud.aiplatform.models.Endpoint object at 0x7fca1e87c790> \n",
      "resource name: projects/474014863033/locations/us-central1/endpoints/5356970184106049536\n",
      "display_name: test\n",
      "resource_name: projects/474014863033/locations/us-central1/endpoints/5356970184106049536\n"
     ]
    }
   ],
   "source": [
    "print(\"endpoint:\", endpt)\n",
    "print(\"display_name:\", endpt.display_name)\n",
    "print(\"resource_name:\", endpt.resource_name)"
   ]
  },
  {
   "cell_type": "markdown",
   "id": "8fc1ac6a-b6f2-45b8-a9ae-da801f892952",
   "metadata": {},
   "source": [
    "## Deploy the model to endpoint created"
   ]
  },
  {
   "cell_type": "code",
   "execution_count": 9,
   "id": "21148411-caa2-4af0-be2a-26238edd8408",
   "metadata": {},
   "outputs": [],
   "source": [
    "# deploying the model to endpoint\n",
    "\n",
    "def deploy_package_detection_model(\n",
    "    project: str,\n",
    "    location: str,\n",
    "    model_name: str,  # fully qualified name: projects/project_number/locations/location_name/models/model_number\n",
    "    endpoint: str,\n",
    "    deployed_model_display_name:  str,\n",
    "    traffic_percentage:  int,\n",
    "    traffic_split: dict,\n",
    "    min_replica_count: int,\n",
    "    max_replica_count: int,\n",
    "    metadata: dict,\n",
    "    sync: bool,\n",
    "):\n",
    "\n",
    "    aiplatform.init(project=project, location=location)\n",
    "    model = aiplatform.Model(model_name=model_name)\n",
    "\n",
    "    model.deploy(\n",
    "        endpoint=endpoint,\n",
    "        deployed_model_display_name=deployed_model_display_name,\n",
    "        traffic_percentage=traffic_percentage,\n",
    "        traffic_split=traffic_split,\n",
    "        min_replica_count=min_replica_count,\n",
    "        max_replica_count=max_replica_count,\n",
    "        metadata=metadata,\n",
    "        sync=sync,\n",
    "    )\n",
    "\n",
    "    model.wait()\n",
    "\n",
    "    #print(model.display_name)\n",
    "    #print(model.resource_name)\n",
    "    return model\n"
   ]
  },
  {
   "cell_type": "code",
   "execution_count": 36,
   "id": "46a984b0-9f44-4e7b-b46d-f0d4b292ae1a",
   "metadata": {},
   "outputs": [],
   "source": [
    "model_path = \"projects/nishitp-daml/locations/us-central1/models/2221017886154031104\"\n",
    "deploy_package_detection_model(PROJECT_ID, LOCATION, model_path, endpt, \"package_detection_model_v1\", 0, None, 1, 1, (), True)"
   ]
  },
  {
   "cell_type": "markdown",
   "id": "431fff1e-944b-4791-8700-3012bffe79a8",
   "metadata": {},
   "source": [
    "## Get predictions from the model"
   ]
  },
  {
   "cell_type": "markdown",
   "id": "667e46a4-4351-4657-9c7c-4a53f7f72ad4",
   "metadata": {},
   "source": [
    "### Online prediction"
   ]
  },
  {
   "cell_type": "code",
   "execution_count": 3,
   "id": "4012e247-e9ec-44ca-bcdb-5d24efe245b0",
   "metadata": {},
   "outputs": [],
   "source": [
    "\n",
    "def predict_image_object_detection_sample(\n",
    "    project: str,\n",
    "    endpoint_id: str,\n",
    "    filename: str,\n",
    "    location: str = \"us-central1\",\n",
    "    api_endpoint: str = \"us-central1-aiplatform.googleapis.com\",\n",
    "):\n",
    "    # The AI Platform services require regional API endpoints.\n",
    "    client_options = {\"api_endpoint\": api_endpoint}\n",
    "    client = aiplatform.gapic.PredictionServiceClient(client_options=client_options)\n",
    "    with open(filename, \"rb\") as f:\n",
    "        file_content = f.read()\n",
    "\n",
    "    # The format of each instance should conform to the deployed model's prediction input schema.\n",
    "    encoded_content = base64.b64encode(file_content).decode(\"utf-8\")\n",
    "    instance = predict.instance.ImageObjectDetectionPredictionInstance(\n",
    "        content=encoded_content,\n",
    "    ).to_value()\n",
    "    instances = [instance]\n",
    "    \n",
    "    # See gs://google-cloud-aiplatform/schema/predict/params/image_object_detection_1.0.0.yaml for the format of the parameters.\n",
    "    parameters = predict.params.ImageObjectDetectionPredictionParams(\n",
    "        confidence_threshold=0.5, max_predictions=5,\n",
    "    ).to_value()\n",
    "    endpoint = client.endpoint_path(\n",
    "        project=project, location=location, endpoint=endpoint_id\n",
    "    )\n",
    "    response = client.predict(\n",
    "        endpoint=endpoint, instances=instances, parameters=parameters\n",
    "    )\n",
    "    \n",
    "    print(\"response\")\n",
    "    print(\" deployed_model_id:\", response.deployed_model_id)\n",
    "    predictions = response.predictions\n",
    "    for prediction in predictions:\n",
    "        print(\" prediction:\", dict(prediction))"
   ]
  },
  {
   "cell_type": "code",
   "execution_count": 24,
   "id": "a4f36797-abce-4148-83d6-340bc1e7d46b",
   "metadata": {},
   "outputs": [
    {
     "name": "stdout",
     "output_type": "stream",
     "text": [
      "response\n",
      " deployed_model_id: 4554010036480770048\n",
      " prediction: {'displayNames': ['small_package'], 'confidences': [0.977389872], 'bboxes': [[0.532388628, 0.637344182, 0.714642763, 0.819512486]], 'ids': ['8059155249295785984']}\n"
     ]
    }
   ],
   "source": [
    "#image_path = \"gs://ds-ml-demos/package-images/IMG_6817_jpg.rf.2b27ee700087707e9721d9ef99180953.jpg\"\n",
    "image_path = \"package-images_IMG_6817_jpg.rf.2b27ee700087707e9721d9ef99180953.jpg\"\n",
    "endpt = \"4724214436460494848\" #USE THIS FROM PREVIOUS CELL VARS\n",
    "predict_image_object_detection_sample(PROJECT_ID, endpt, image_path)"
   ]
  },
  {
   "cell_type": "code",
   "execution_count": null,
   "id": "bb5a3ef1-4f20-4a08-a324-3d23ab94aa2c",
   "metadata": {},
   "outputs": [],
   "source": [
    "from io import StringIO\n",
    "from google.cloud import storage\n",
    "\n",
    "# storage_client = storage.Client.from_service_account_json('service_account.json')\n",
    "storage_client = storage.Client()\n",
    "\n",
    "bucket = storage_client.get_bucket(\"package-images\")\n",
    "\n",
    "blob = bucket.blob(\"IMG_6817_jpg.rf.2b27ee700087707e9721d9ef99180953.jpg\")\n",
    "blob = blob.download_as_string()\n",
    "\n",
    "predict_image_object_detection_sample(PROJECT_ID, endpt, blob)"
   ]
  },
  {
   "cell_type": "markdown",
   "id": "fb677f68-bfcb-48ec-9e09-c676e79b7f70",
   "metadata": {
    "tags": []
   },
   "source": [
    "### Batch prediction"
   ]
  },
  {
   "cell_type": "code",
   "execution_count": 38,
   "id": "74df3434-9835-48ab-bdce-3af89087ac3c",
   "metadata": {},
   "outputs": [
    {
     "name": "stdout",
     "output_type": "stream",
     "text": [
      "Writing files/batch-prediction-inputs.jsonl\n"
     ]
    }
   ],
   "source": [
    "%%writefile files/batch-prediction-inputs.jsonl\n",
    "\n",
    "{\"content\": \"gs://ds-ml-demos/package-images/package_1_jpg.rf.1dd5f86efdbf9d125fee179b79990815.jpg\", \"mimeType\": \"image/jpeg\"}\n",
    "{\"content\": \"gs://ds-ml-demos/package-images/package_2_jpg.rf.8c973fc25e3e5d21b9c530a10fee8b9c.jpg\", \"mimeType\": \"image/jpeg\"}\n",
    "{\"content\": \"gs://ds-ml-demos/package-images/package_3_jpg.rf.0d9a9aff39c3a0ebdc4688341b2897d1.jpg\", \"mimeType\": \"image/jpeg\"}\n",
    "{\"content\": \"gs://ds-ml-demos/package-images/PXL_20201107_214721193_jpg.rf.d99f9ee32d61e29eada5329cf05098cc.jpg\", \"mimeType\": \"image/jpeg\"}\n",
    "{\"content\": \"gs://ds-ml-demos/package-images/IMG_6818_jpg.rf.88e460792f0c2f00c939494186207e02.jpg\", \"mimeType\": \"image/jpeg\"}"
   ]
  },
  {
   "cell_type": "code",
   "execution_count": 34,
   "id": "aaa51987-bc91-4758-a16f-ffb5b7af518b",
   "metadata": {},
   "outputs": [],
   "source": [
    "#function for batch prediction\n",
    "\n",
    "def get_package_detection_batch_predictions(\n",
    "    project: str,\n",
    "    location: str,\n",
    "    model_resource_name: str,\n",
    "    job_display_name: str,\n",
    "    gcs_source,\n",
    "    gcs_destination: str,\n",
    "    sync: bool = True,\n",
    "):\n",
    "    aiplatform.init(project=project, location=location)\n",
    "\n",
    "    model = aiplatform.Model(model_resource_name)\n",
    "\n",
    "    batch_prediction_job = model.batch_predict(\n",
    "        job_display_name=job_display_name,\n",
    "        gcs_source=gcs_source,\n",
    "        gcs_destination_prefix=gcs_destination,\n",
    "        sync=sync,\n",
    "    )\n",
    "\n",
    "    batch_prediction_job.wait()\n",
    "\n",
    "    print(batch_prediction_job.display_name)\n",
    "    print(batch_prediction_job.resource_name)\n",
    "    print(batch_prediction_job.state)\n",
    "    return batch_prediction_job\n",
    " "
   ]
  },
  {
   "cell_type": "code",
   "execution_count": 40,
   "id": "932756ac-0f43-42e5-a242-001158fb5bf6",
   "metadata": {},
   "outputs": [
    {
     "name": "stdout",
     "output_type": "stream",
     "text": [
      "INFO:google.cloud.aiplatform.jobs:Creating BatchPredictionJob\n",
      "INFO:google.cloud.aiplatform.jobs:BatchPredictionJob created. Resource name: projects/474014863033/locations/us-central1/batchPredictionJobs/874836322244624384\n",
      "INFO:google.cloud.aiplatform.jobs:To use this BatchPredictionJob in another session:\n",
      "INFO:google.cloud.aiplatform.jobs:bpj = aiplatform.BatchPredictionJob('projects/474014863033/locations/us-central1/batchPredictionJobs/874836322244624384')\n",
      "INFO:google.cloud.aiplatform.jobs:View Batch Prediction Job:\n",
      "https://console.cloud.google.com/ai/platform/locations/us-central1/batch-predictions/874836322244624384?project=474014863033\n",
      "INFO:google.cloud.aiplatform.jobs:BatchPredictionJob projects/474014863033/locations/us-central1/batchPredictionJobs/874836322244624384 current state:\n",
      "JobState.JOB_STATE_RUNNING\n",
      "INFO:google.cloud.aiplatform.jobs:BatchPredictionJob projects/474014863033/locations/us-central1/batchPredictionJobs/874836322244624384 current state:\n",
      "JobState.JOB_STATE_RUNNING\n",
      "INFO:google.cloud.aiplatform.jobs:BatchPredictionJob projects/474014863033/locations/us-central1/batchPredictionJobs/874836322244624384 current state:\n",
      "JobState.JOB_STATE_RUNNING\n",
      "INFO:google.cloud.aiplatform.jobs:BatchPredictionJob projects/474014863033/locations/us-central1/batchPredictionJobs/874836322244624384 current state:\n",
      "JobState.JOB_STATE_RUNNING\n",
      "INFO:google.cloud.aiplatform.jobs:BatchPredictionJob projects/474014863033/locations/us-central1/batchPredictionJobs/874836322244624384 current state:\n",
      "JobState.JOB_STATE_RUNNING\n",
      "INFO:google.cloud.aiplatform.jobs:BatchPredictionJob projects/474014863033/locations/us-central1/batchPredictionJobs/874836322244624384 current state:\n",
      "JobState.JOB_STATE_RUNNING\n",
      "INFO:google.cloud.aiplatform.jobs:BatchPredictionJob projects/474014863033/locations/us-central1/batchPredictionJobs/874836322244624384 current state:\n",
      "JobState.JOB_STATE_RUNNING\n",
      "INFO:google.cloud.aiplatform.jobs:BatchPredictionJob projects/474014863033/locations/us-central1/batchPredictionJobs/874836322244624384 current state:\n",
      "JobState.JOB_STATE_RUNNING\n",
      "INFO:google.cloud.aiplatform.jobs:BatchPredictionJob projects/474014863033/locations/us-central1/batchPredictionJobs/874836322244624384 current state:\n",
      "JobState.JOB_STATE_RUNNING\n",
      "INFO:google.cloud.aiplatform.jobs:BatchPredictionJob projects/474014863033/locations/us-central1/batchPredictionJobs/874836322244624384 current state:\n",
      "JobState.JOB_STATE_SUCCEEDED\n",
      "INFO:google.cloud.aiplatform.jobs:BatchPredictionJob run completed. Resource name: projects/474014863033/locations/us-central1/batchPredictionJobs/874836322244624384\n",
      "batch_pred_job_test\n",
      "projects/474014863033/locations/us-central1/batchPredictionJobs/874836322244624384\n",
      "JobState.JOB_STATE_SUCCEEDED\n"
     ]
    },
    {
     "data": {
      "text/plain": [
       "<google.cloud.aiplatform.jobs.BatchPredictionJob object at 0x7f06cb754310> \n",
       "resource name: projects/474014863033/locations/us-central1/batchPredictionJobs/874836322244624384"
      ]
     },
     "execution_count": 40,
     "metadata": {},
     "output_type": "execute_result"
    }
   ],
   "source": [
    "GCS_IN_PATH = \"gs://ds-ml-demos/package-image-batch-predictions/input/batch-prediction-inputs.jsonl\"\n",
    "GCS_OUT_PATH = \"gs://ds-ml-demos/package-image-batch-predictions/output/\"\n",
    "get_package_detection_batch_predictions(PROJECT_ID, LOCATION, model_path, \"batch_pred_job_test\", GCS_IN_PATH, GCS_OUT_PATH)"
   ]
  },
  {
   "cell_type": "markdown",
   "id": "f42548db-fa19-4c74-9288-1b985c0e7155",
   "metadata": {},
   "source": [
    "# Test Code"
   ]
  },
  {
   "cell_type": "markdown",
   "id": "d2efa204-1bf1-4248-9feb-8d1e2239fd11",
   "metadata": {},
   "source": [
    "#export notebook\n",
    "import os\n",
    "\n",
    "os.system('jupyter nbconvert --to html dma-01-automl-object-detection-using-api.ipynb')"
   ]
  },
  {
   "cell_type": "code",
   "execution_count": 27,
   "id": "94586aa4-2e5c-4c55-a968-6196c2c2108e",
   "metadata": {},
   "outputs": [
    {
     "data": {
      "text/plain": [
       "'7482669208224923648'"
      ]
     },
     "execution_count": 27,
     "metadata": {},
     "output_type": "execute_result"
    }
   ],
   "source": [
    "end_pt_str = \"projects/474014863033/locations/us-central1/endpoints/7482669208224923648\"\n",
    "end_point_id = end_pt_str[end_pt_str.rindex('/')+1:]\n",
    "end_point_id"
   ]
  },
  {
   "cell_type": "markdown",
   "id": "39f32e12-2275-4b0b-8ce2-c36859fb64ec",
   "metadata": {},
   "source": [
    "#### Create batch prediction input file\n",
    "\n"
   ]
  },
  {
   "cell_type": "code",
   "execution_count": 30,
   "id": "218d424a-fc54-49fe-93e0-1d435d07e701",
   "metadata": {},
   "outputs": [
    {
     "data": {
      "text/plain": [
       "'/home/jupyter/gh-google-cloud/google-cloud/demos'"
      ]
     },
     "execution_count": 30,
     "metadata": {},
     "output_type": "execute_result"
    }
   ],
   "source": [
    "pwd()"
   ]
  },
  {
   "cell_type": "code",
   "execution_count": null,
   "id": "4aff12e6-c9b9-4e58-8eab-bdf885809447",
   "metadata": {},
   "outputs": [],
   "source": []
  }
 ],
 "metadata": {
  "environment": {
   "kernel": "python3",
   "name": "managed-notebooks.m87",
   "type": "gcloud",
   "uri": "gcr.io/deeplearning-platform-release/base-cu110:latest"
  },
  "kernelspec": {
   "display_name": "Python (Local)",
   "language": "python",
   "name": "local-base"
  },
  "language_info": {
   "codemirror_mode": {
    "name": "ipython",
    "version": 3
   },
   "file_extension": ".py",
   "mimetype": "text/x-python",
   "name": "python",
   "nbconvert_exporter": "python",
   "pygments_lexer": "ipython3",
   "version": "3.7.12"
  }
 },
 "nbformat": 4,
 "nbformat_minor": 5
}
