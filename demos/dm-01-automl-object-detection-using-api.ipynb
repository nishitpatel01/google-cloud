{
 "cells": [
  {
   "cell_type": "markdown",
   "id": "6b990a00-8a5b-4447-add3-3c87e8af6b68",
   "metadata": {},
   "source": [
    "# Vertex AI - Object detection using AutoML (using APIs)"
   ]
  },
  {
   "cell_type": "markdown",
   "id": "3c82e5fe-a7e3-416e-bf98-b33de1753d6e",
   "metadata": {},
   "source": [
    "### Summary\n",
    "\n",
    "#### In this notebook, we'll use Vertex AI to train customer object detection model using image dataset. After training, we will create an endpoint deploy the model to an endpoint and deploy the model to that endpoint. Then we will use the deploymed model for online prediction. "
   ]
  },
  {
   "cell_type": "markdown",
   "id": "bb2b18d3-5070-4001-a19f-cb9907a38c9e",
   "metadata": {},
   "source": [
    "### Prerequisites"
   ]
  },
  {
   "cell_type": "markdown",
   "id": "eda3d560-d8ea-4376-b737-798f6fee661b",
   "metadata": {},
   "source": [
    " - Images dataset with object to identify"
   ]
  },
  {
   "cell_type": "markdown",
   "id": "8711195d-e8ca-4945-a4e1-461f5a548d37",
   "metadata": {},
   "source": [
    "### Items Covered in this notebook"
   ]
  },
  {
   "cell_type": "markdown",
   "id": "5c122206-25d6-404b-ac37-05b11e599d75",
   "metadata": {},
   "source": [
    " - Setup resources\n",
    " - Image dataset creation\n",
    " - Import images in the dataset and create labels\n",
    " - Train custom AutoML models for object tdetection\n",
    " - Evaluate the trained model\n",
    " - Create and endpoint for deploy model \n",
    " - Perform online prediction on new data\n",
    " - Cleanup"
   ]
  },
  {
   "cell_type": "code",
   "execution_count": null,
   "id": "00fcc891-6483-4b9d-9e0a-a91002702fdd",
   "metadata": {},
   "outputs": [],
   "source": []
  }
 ],
 "metadata": {
  "environment": {
   "kernel": "python3",
   "name": "managed-notebooks.m87",
   "type": "gcloud",
   "uri": "gcr.io/deeplearning-platform-release/base-cu110:latest"
  },
  "kernelspec": {
   "display_name": "Python (Local)",
   "language": "python",
   "name": "local-base"
  },
  "language_info": {
   "codemirror_mode": {
    "name": "ipython",
    "version": 3
   },
   "file_extension": ".py",
   "mimetype": "text/x-python",
   "name": "python",
   "nbconvert_exporter": "python",
   "pygments_lexer": "ipython3",
   "version": "3.7.12"
  }
 },
 "nbformat": 4,
 "nbformat_minor": 5
}
