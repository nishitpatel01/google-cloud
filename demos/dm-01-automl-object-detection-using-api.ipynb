{
 "cells": [
  {
   "cell_type": "markdown",
   "id": "6b990a00-8a5b-4447-add3-3c87e8af6b68",
   "metadata": {},
   "source": [
    "# Vertex AI - Object detection using AutoML (using APIs)"
   ]
  },
  {
   "cell_type": "markdown",
   "id": "3c82e5fe-a7e3-416e-bf98-b33de1753d6e",
   "metadata": {},
   "source": [
    "### Summary\n",
    "\n",
    "In this notebook, we'll use Vertex AI to train customer object detection model using image dataset. After training, we will create an endpoint deploy the model to an endpoint and deploy the model to that endpoint. Then we will use the deploymed model for online prediction. "
   ]
  },
  {
   "cell_type": "markdown",
   "id": "bb2b18d3-5070-4001-a19f-cb9907a38c9e",
   "metadata": {},
   "source": [
    "### Prerequisites"
   ]
  },
  {
   "cell_type": "markdown",
   "id": "eda3d560-d8ea-4376-b737-798f6fee661b",
   "metadata": {},
   "source": [
    " - Images dataset with object to identify"
   ]
  },
  {
   "cell_type": "markdown",
   "id": "8711195d-e8ca-4945-a4e1-461f5a548d37",
   "metadata": {},
   "source": [
    "### Items Covered in this notebook"
   ]
  },
  {
   "cell_type": "markdown",
   "id": "5c122206-25d6-404b-ac37-05b11e599d75",
   "metadata": {},
   "source": [
    " - Setup resources\n",
    " - Image dataset creation\n",
    " - Import images in the dataset and create labels\n",
    " - Train custom AutoML models for object tdetection\n",
    " - Evaluate the trained model\n",
    " - Create and endpoint for deploy model \n",
    " - Perform online prediction on new data\n",
    " - Cleanup"
   ]
  },
  {
   "cell_type": "markdown",
   "id": "6f17848e-5d57-4c53-b97b-f4f60b056757",
   "metadata": {},
   "source": [
    "#### Setup resources"
   ]
  },
  {
   "cell_type": "code",
   "execution_count": 11,
   "id": "ff9461ff-ff59-4b5d-b79e-cad0d1f56bea",
   "metadata": {},
   "outputs": [],
   "source": [
    "# Load required packages to run the notebook\n",
    "\n",
    "import json\n",
    "import requests\n",
    "from typing import List, Union\n",
    "from IPython.display import Image\n",
    "\n",
    "from google.cloud import bigquery\n",
    "from google.cloud import aiplatform\n",
    "from google.cloud.aiplatform.gapic.schema import trainingjob"
   ]
  },
  {
   "cell_type": "code",
   "execution_count": 4,
   "id": "214c27bf-6326-4056-b00e-641143102492",
   "metadata": {},
   "outputs": [],
   "source": [
    "# Setup variables for notebooks\n",
    "\n",
    "LOCATION = \"us-central1\" \n",
    "PROJECT_ID = \"nishitp-daml\"\n",
    "DATASET_ID = \"4715062101670887424\"\n",
    "EXPORT_DIRECTORY = \"gs://ds-ml-demos/packages-image-metadata/\"\n",
    "ANNOTATION_SET_ID = \"package-classification_iod\"\n",
    "FILTER = f\"labels.aiplatform.googleapis.com/annotation_set_name={ANNOTATION_SET_ID}\""
   ]
  },
  {
   "cell_type": "code",
   "execution_count": 5,
   "id": "a71b9fbf-7f63-40d4-8f29-e306369af3c3",
   "metadata": {},
   "outputs": [],
   "source": [
    "# Creating helper functions for API calls\n",
    "\n",
    "def manage_package_dataset_metadata(method, endpoint, data, auth_token):\n",
    "    data = str(data)\n",
    "    headers = {'Content-type': 'application/json', \"Authorization\": f\"Bearer {auth_token}\"}\n",
    "    \n",
    "    if method == \"GET\":\n",
    "        resp = requests.get(endpoint, headers=headers)\n",
    "    if method == \"POST\":\n",
    "        resp = requests.post(endpoint, data=data, headers=headers)\n",
    "    if method == \"DELETE\":\n",
    "        resp = requests.delete(endpoint, headers=headers)\n",
    "    \n",
    "    return(resp.json())"
   ]
  },
  {
   "cell_type": "markdown",
   "id": "4d88fbf5-8e3a-49c0-b20b-f75dd004a529",
   "metadata": {},
   "source": [
    "##### Let's create image dataset in the Vertex AI and import all images into our dataset"
   ]
  },
  {
   "cell_type": "markdown",
   "id": "24acfe63-a765-4d5a-9118-8b9c5ae66b78",
   "metadata": {},
   "source": [
    "<img src=\"files/images/gcp-console-vertex-ai-image-dataset.png\">"
   ]
  },
  {
   "cell_type": "code",
   "execution_count": null,
   "id": "c1860a4d-8b4c-4672-b9d2-cbc21273a6fe",
   "metadata": {},
   "outputs": [],
   "source": []
  },
  {
   "cell_type": "code",
   "execution_count": null,
   "id": "31566a8c-3d4c-4150-ac79-cb2eb1d4d9ba",
   "metadata": {},
   "outputs": [],
   "source": []
  }
 ],
 "metadata": {
  "environment": {
   "kernel": "python3",
   "name": "managed-notebooks.m87",
   "type": "gcloud",
   "uri": "gcr.io/deeplearning-platform-release/base-cu110:latest"
  },
  "kernelspec": {
   "display_name": "Python (Local)",
   "language": "python",
   "name": "local-base"
  },
  "language_info": {
   "codemirror_mode": {
    "name": "ipython",
    "version": 3
   },
   "file_extension": ".py",
   "mimetype": "text/x-python",
   "name": "python",
   "nbconvert_exporter": "python",
   "pygments_lexer": "ipython3",
   "version": "3.7.12"
  }
 },
 "nbformat": 4,
 "nbformat_minor": 5
}
