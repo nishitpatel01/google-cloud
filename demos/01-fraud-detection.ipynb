{
 "cells": [
  {
   "cell_type": "markdown",
   "id": "6b990a00-8a5b-4447-add3-3c87e8af6b68",
   "metadata": {},
   "source": [
    "# Fraud Detection using Vertex AI"
   ]
  },
  {
   "cell_type": "markdown",
   "id": "3c82e5fe-a7e3-416e-bf98-b33de1753d6e",
   "metadata": {},
   "source": [
    "## Details coming soon!"
   ]
  },
  {
   "cell_type": "code",
   "execution_count": null,
   "id": "06d4182e-7536-4ddf-9916-04db51de1512",
   "metadata": {},
   "outputs": [],
   "source": []
  }
 ],
 "metadata": {
  "environment": {
   "kernel": "python3",
   "name": "managed-notebooks.m87",
   "type": "gcloud",
   "uri": "gcr.io/deeplearning-platform-release/base-cu110:latest"
  },
  "kernelspec": {
   "display_name": "Python (Local)",
   "language": "python",
   "name": "local-base"
  },
  "language_info": {
   "codemirror_mode": {
    "name": "ipython",
    "version": 3
   },
   "file_extension": ".py",
   "mimetype": "text/x-python",
   "name": "python",
   "nbconvert_exporter": "python",
   "pygments_lexer": "ipython3",
   "version": "3.7.12"
  }
 },
 "nbformat": 4,
 "nbformat_minor": 5
}
