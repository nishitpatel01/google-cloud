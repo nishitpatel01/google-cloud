{
 "cells": [
  {
   "cell_type": "markdown",
   "id": "519191ff-eed5-4a05-b561-c031417b9870",
   "metadata": {},
   "source": [
    "# Anomaly Detection using Time Series Insights API (Basics)"
   ]
  },
  {
   "cell_type": "code",
   "execution_count": 1,
   "id": "45637a2c-9eca-4475-8609-11790296227b",
   "metadata": {},
   "outputs": [],
   "source": [
    "%load_ext autoreload\n",
    "%autoreload 2"
   ]
  },
  {
   "cell_type": "code",
   "execution_count": 22,
   "id": "1a186d10-2a0f-4ed8-b163-caca86e9415d",
   "metadata": {},
   "outputs": [
    {
     "name": "stdout",
     "output_type": "stream",
     "text": [
      "Requirement already satisfied: oauth2client in /opt/conda/lib/python3.7/site-packages (4.1.3)\n",
      "Requirement already satisfied: six>=1.6.1 in /opt/conda/lib/python3.7/site-packages (from oauth2client) (1.16.0)\n",
      "Requirement already satisfied: rsa>=3.1.4 in /opt/conda/lib/python3.7/site-packages (from oauth2client) (4.7.2)\n",
      "Requirement already satisfied: httplib2>=0.9.1 in /opt/conda/lib/python3.7/site-packages (from oauth2client) (0.20.1)\n",
      "Requirement already satisfied: pyasn1-modules>=0.0.5 in /opt/conda/lib/python3.7/site-packages (from oauth2client) (0.2.7)\n",
      "Requirement already satisfied: pyasn1>=0.1.7 in /opt/conda/lib/python3.7/site-packages (from oauth2client) (0.4.8)\n",
      "Requirement already satisfied: pyparsing<3,>=2.4.2 in /opt/conda/lib/python3.7/site-packages (from httplib2>=0.9.1->oauth2client) (2.4.7)\n"
     ]
    }
   ],
   "source": [
    "!pip3 install --upgrade oauth2client "
   ]
  },
  {
   "cell_type": "code",
   "execution_count": 2,
   "id": "e2307255-1155-43c9-8870-329e4d29cbd6",
   "metadata": {},
   "outputs": [],
   "source": [
    "# Load libraries\n",
    "\n",
    "from oauth2client.client import GoogleCredentials\n",
    "from google.cloud import bigquery\n",
    "import pandas as pd\n",
    "import pandas_gbq\n",
    "import json\n",
    "import requests"
   ]
  },
  {
   "cell_type": "code",
   "execution_count": 3,
   "id": "6dc5854e-100c-4050-9aab-27465df4579a",
   "metadata": {},
   "outputs": [],
   "source": [
    "pd.set_option('display.max_colwidth', None)\n",
    "client = bigquery.Client()\n",
    "PROJECT_ID=\"<your-project-id>\""
   ]
  },
  {
   "cell_type": "code",
   "execution_count": 6,
   "id": "c6980a46-945d-4827-a6a0-1583b0a70d27",
   "metadata": {},
   "outputs": [
    {
     "data": {
      "text/html": [
       "<div>\n",
       "<style scoped>\n",
       "    .dataframe tbody tr th:only-of-type {\n",
       "        vertical-align: middle;\n",
       "    }\n",
       "\n",
       "    .dataframe tbody tr th {\n",
       "        vertical-align: top;\n",
       "    }\n",
       "\n",
       "    .dataframe thead th {\n",
       "        text-align: right;\n",
       "    }\n",
       "</style>\n",
       "<table border=\"1\" class=\"dataframe\">\n",
       "  <thead>\n",
       "    <tr style=\"text-align: right;\">\n",
       "      <th></th>\n",
       "      <th>groupId</th>\n",
       "      <th>eventTime</th>\n",
       "      <th>variable</th>\n",
       "      <th>value</th>\n",
       "    </tr>\n",
       "  </thead>\n",
       "  <tbody>\n",
       "    <tr>\n",
       "      <th>0</th>\n",
       "      <td>-2371371181525175581</td>\n",
       "      <td>2021-06-25T21:33:44+00:00</td>\n",
       "      <td>temp</td>\n",
       "      <td>55.85</td>\n",
       "    </tr>\n",
       "    <tr>\n",
       "      <th>1</th>\n",
       "      <td>-1611801076400518757</td>\n",
       "      <td>2021-06-25T21:37:13+00:00</td>\n",
       "      <td>temp</td>\n",
       "      <td>55.85</td>\n",
       "    </tr>\n",
       "    <tr>\n",
       "      <th>2</th>\n",
       "      <td>-1786144178866771453</td>\n",
       "      <td>2021-06-25T21:37:36+00:00</td>\n",
       "      <td>temp</td>\n",
       "      <td>55.83</td>\n",
       "    </tr>\n",
       "    <tr>\n",
       "      <th>3</th>\n",
       "      <td>-3830910545382395153</td>\n",
       "      <td>2021-06-25T21:38:00+00:00</td>\n",
       "      <td>temp</td>\n",
       "      <td>55.85</td>\n",
       "    </tr>\n",
       "    <tr>\n",
       "      <th>4</th>\n",
       "      <td>6305421944528799476</td>\n",
       "      <td>2021-06-25T21:38:24+00:00</td>\n",
       "      <td>temp</td>\n",
       "      <td>55.85</td>\n",
       "    </tr>\n",
       "  </tbody>\n",
       "</table>\n",
       "</div>"
      ],
      "text/plain": [
       "               groupId                  eventTime variable  value\n",
       "0 -2371371181525175581  2021-06-25T21:33:44+00:00     temp  55.85\n",
       "1 -1611801076400518757  2021-06-25T21:37:13+00:00     temp  55.85\n",
       "2 -1786144178866771453  2021-06-25T21:37:36+00:00     temp  55.83\n",
       "3 -3830910545382395153  2021-06-25T21:38:00+00:00     temp  55.85\n",
       "4  6305421944528799476  2021-06-25T21:38:24+00:00     temp  55.85"
      ]
     },
     "execution_count": 6,
     "metadata": {},
     "output_type": "execute_result"
    }
   ],
   "source": [
    "# Read raw data and format \n",
    "\n",
    "sql = \"\"\"\n",
    " select FARM_FINGERPRINT(CONCAT(time, temp, Humidity, Light, h2_raw)) groupId, \n",
    "            FORMAT_TIMESTAMP(\"%Y-%m-%dT%X%Ez\", time, \"UTC\") eventTime, \n",
    "            temp, \n",
    "            Humidity, \n",
    "            Light, \n",
    "            h2_raw,\n",
    "            'LTHH' as measure\n",
    "        from `<project-id>.<dataset-id>.full_ts_data`\n",
    "\"\"\"\n",
    "df = client.query(sql).to_dataframe()\n",
    "df = df.melt(id_vars=['groupId','eventTime'])\n",
    "df.head()"
   ]
  },
  {
   "cell_type": "code",
   "execution_count": 7,
   "id": "5218536f-45d2-4e2c-a681-255fb47f6d30",
   "metadata": {},
   "outputs": [
    {
     "data": {
      "text/plain": [
       "(1011335, 4)"
      ]
     },
     "execution_count": 7,
     "metadata": {},
     "output_type": "execute_result"
    }
   ],
   "source": [
    "df.shape"
   ]
  },
  {
   "cell_type": "code",
   "execution_count": null,
   "id": "7fc6abcd-513b-48df-b34d-299608132d79",
   "metadata": {},
   "outputs": [],
   "source": [
    "# Write melt df to bq table --DO NOT RUN THIS (TABLE ALREADY CREATED IN BQ)\n",
    "table_id=\"<table-id>\"\n",
    "pandas_gbq.to_gbq(df,table_id,project_id=PROJECT_ID)"
   ]
  },
  {
   "cell_type": "code",
   "execution_count": null,
   "id": "b7abd8c7-e943-4987-a90a-7cfe57394dc2",
   "metadata": {},
   "outputs": [],
   "source": [
    "# OPTIONAL - DO NOT RUN (Read full json and convert into new line delimited json)\n",
    "\n",
    "with open(\"/home/jupyter/jbl-full-ts.json\", \"r\") as read_file:\n",
    "    data = json.load(read_file)\n",
    "result = [json.dumps(record) for record in data]\n",
    "with open('nd-proceesed-full.json', 'w') as obj:\n",
    "    for i in result:\n",
    "        obj.write(i+'\\n')"
   ]
  },
  {
   "cell_type": "code",
   "execution_count": 8,
   "id": "6b88e62d-2dc1-40f2-9f6c-2faa65c800f6",
   "metadata": {},
   "outputs": [
    {
     "data": {
      "text/html": [
       "<div>\n",
       "<style scoped>\n",
       "    .dataframe tbody tr th:only-of-type {\n",
       "        vertical-align: middle;\n",
       "    }\n",
       "\n",
       "    .dataframe tbody tr th {\n",
       "        vertical-align: top;\n",
       "    }\n",
       "\n",
       "    .dataframe thead th {\n",
       "        text-align: right;\n",
       "    }\n",
       "</style>\n",
       "<table border=\"1\" class=\"dataframe\">\n",
       "  <thead>\n",
       "    <tr style=\"text-align: right;\">\n",
       "      <th></th>\n",
       "      <th>eventTime</th>\n",
       "      <th>groupId</th>\n",
       "      <th>dimensions</th>\n",
       "    </tr>\n",
       "  </thead>\n",
       "  <tbody>\n",
       "    <tr>\n",
       "      <th>0</th>\n",
       "      <td>2021-06-14T00:00:04+00:00</td>\n",
       "      <td>2583958225776393023</td>\n",
       "      <td>[{'name': 'Humidity', 'doubleVal': 36.0}, {'name': 'Light', 'doubleVal': 99.0}, {'name': 'h2_raw', 'doubleVal': 1041.0}, {'name': 'temp', 'doubleVal': 36.97}]</td>\n",
       "    </tr>\n",
       "    <tr>\n",
       "      <th>1</th>\n",
       "      <td>2021-06-14T00:00:28+00:00</td>\n",
       "      <td>941253816505829577</td>\n",
       "      <td>[{'name': 'Humidity', 'doubleVal': 36.0}, {'name': 'Light', 'doubleVal': 102.0}, {'name': 'h2_raw', 'doubleVal': 1021.0}, {'name': 'temp', 'doubleVal': 36.93}]</td>\n",
       "    </tr>\n",
       "    <tr>\n",
       "      <th>2</th>\n",
       "      <td>2021-06-14T00:00:51+00:00</td>\n",
       "      <td>4798976411894260670</td>\n",
       "      <td>[{'name': 'Humidity', 'doubleVal': 36.0}, {'name': 'Light', 'doubleVal': 102.0}, {'name': 'h2_raw', 'doubleVal': 1051.0}, {'name': 'temp', 'doubleVal': 36.97}]</td>\n",
       "    </tr>\n",
       "    <tr>\n",
       "      <th>3</th>\n",
       "      <td>2021-06-14T00:01:14+00:00</td>\n",
       "      <td>2061911259308007249</td>\n",
       "      <td>[{'name': 'Humidity', 'doubleVal': 36.0}, {'name': 'Light', 'doubleVal': 100.0}, {'name': 'h2_raw', 'doubleVal': 1040.0}, {'name': 'temp', 'doubleVal': 36.95}]</td>\n",
       "    </tr>\n",
       "    <tr>\n",
       "      <th>4</th>\n",
       "      <td>2021-06-14T00:01:38+00:00</td>\n",
       "      <td>7896826658989699415</td>\n",
       "      <td>[{'name': 'Humidity', 'doubleVal': 36.0}, {'name': 'Light', 'doubleVal': 99.0}, {'name': 'h2_raw', 'doubleVal': 1040.0}, {'name': 'temp', 'doubleVal': 36.96}]</td>\n",
       "    </tr>\n",
       "  </tbody>\n",
       "</table>\n",
       "</div>"
      ],
      "text/plain": [
       "                   eventTime              groupId  \\\n",
       "0  2021-06-14T00:00:04+00:00  2583958225776393023   \n",
       "1  2021-06-14T00:00:28+00:00   941253816505829577   \n",
       "2  2021-06-14T00:00:51+00:00  4798976411894260670   \n",
       "3  2021-06-14T00:01:14+00:00  2061911259308007249   \n",
       "4  2021-06-14T00:01:38+00:00  7896826658989699415   \n",
       "\n",
       "                                                                                                                                                        dimensions  \n",
       "0   [{'name': 'Humidity', 'doubleVal': 36.0}, {'name': 'Light', 'doubleVal': 99.0}, {'name': 'h2_raw', 'doubleVal': 1041.0}, {'name': 'temp', 'doubleVal': 36.97}]  \n",
       "1  [{'name': 'Humidity', 'doubleVal': 36.0}, {'name': 'Light', 'doubleVal': 102.0}, {'name': 'h2_raw', 'doubleVal': 1021.0}, {'name': 'temp', 'doubleVal': 36.93}]  \n",
       "2  [{'name': 'Humidity', 'doubleVal': 36.0}, {'name': 'Light', 'doubleVal': 102.0}, {'name': 'h2_raw', 'doubleVal': 1051.0}, {'name': 'temp', 'doubleVal': 36.97}]  \n",
       "3  [{'name': 'Humidity', 'doubleVal': 36.0}, {'name': 'Light', 'doubleVal': 100.0}, {'name': 'h2_raw', 'doubleVal': 1040.0}, {'name': 'temp', 'doubleVal': 36.95}]  \n",
       "4   [{'name': 'Humidity', 'doubleVal': 36.0}, {'name': 'Light', 'doubleVal': 99.0}, {'name': 'h2_raw', 'doubleVal': 1040.0}, {'name': 'temp', 'doubleVal': 36.96}]  "
      ]
     },
     "execution_count": 8,
     "metadata": {},
     "output_type": "execute_result"
    }
   ],
   "source": [
    "# Read melted data from BQ table and prepare json for time series indight API dataset\n",
    "\n",
    "sql_out = \"\"\"\n",
    "with data as\n",
    "    (\n",
    "        select groupId, eventTime, STRUCT(variable as name, value as doubleVal) as dimensions \n",
    "        from (\n",
    "                select * from `<project-id>.<dataset-id>.anomaly_data`\n",
    "                order by eventTime, variable\n",
    "             )\n",
    "    )\n",
    "\n",
    "    SELECT eventTime, groupId, ARRAY_AGG(dimensions) AS dimensions FROM data GROUP BY eventTime, groupId \n",
    "\"\"\"\n",
    "df_out = client.query(sql_out).to_dataframe()\n",
    "df_out.head()"
   ]
  },
  {
   "cell_type": "code",
   "execution_count": 9,
   "id": "a658d72b-7078-464b-af24-52a8b186a6f2",
   "metadata": {},
   "outputs": [],
   "source": [
    "# write data to json\n",
    "df_out.to_json(\"files/df_converted.json\", orient=\"records\", lines=True)"
   ]
  },
  {
   "cell_type": "markdown",
   "id": "103872cb-acb2-4243-ac2c-b0939b0e2bd3",
   "metadata": {},
   "source": [
    "# Interacting with Time series API"
   ]
  },
  {
   "cell_type": "markdown",
   "id": "af2a2543-5871-42fd-8e82-ce0db62d24b6",
   "metadata": {},
   "source": [
    "### Helper functions"
   ]
  },
  {
   "cell_type": "code",
   "execution_count": 4,
   "id": "30628f67-f5c9-4a71-b410-94d4bf9a2f49",
   "metadata": {},
   "outputs": [],
   "source": [
    "# reads json file and returns request body\n",
    "\n",
    "def read_json_file(path):\n",
    "    with open(path) as json_file:\n",
    "        query = json.load(json_file)\n",
    "        \n",
    "    return query"
   ]
  },
  {
   "cell_type": "code",
   "execution_count": 5,
   "id": "85ab84cf-295a-4389-a431-d2de96c2101d",
   "metadata": {},
   "outputs": [],
   "source": [
    "# TODO - REPLACE WITH SA ACCOUNT KEY\n",
    "KEY_FILE = '/home/jupyter/files/svc-acc.json' #REPLACE THIS WITH PROJECT SPECIFIC SERVICE ACCOUNT KEY\n",
    "ts_endpoint =  f'https://timeseriesinsights.googleapis.com/v1/projects/{PROJECT_ID}/datasets'"
   ]
  },
  {
   "cell_type": "code",
   "execution_count": null,
   "id": "387b8c7f-2188-413d-a17a-3e3c27a1775d",
   "metadata": {},
   "outputs": [],
   "source": [
    "# Loading credentials into auth_token - this is temp token that needs to be refreshed\n",
    "token=GoogleCredentials.get_application_default().get_access_token().access_token\n",
    "token "
   ]
  },
  {
   "cell_type": "code",
   "execution_count": 7,
   "id": "2402f468-176c-4b52-9695-298369d24367",
   "metadata": {},
   "outputs": [],
   "source": [
    "# Function to interact with time series API\n",
    "\n",
    "def query_ts(method, endpoint, data, auth_token):\n",
    "    data = str(data)\n",
    "    headers = {'Content-type': 'application/json', \"Authorization\": f\"Bearer {auth_token}\"}\n",
    "    \n",
    "    if method == \"GET\":\n",
    "        resp = requests.get(endpoint, headers=headers)\n",
    "    if method == \"POST\":\n",
    "        resp = requests.post(endpoint, data=data, headers=headers)\n",
    "    if method == \"DELETE\":\n",
    "        resp = requests.delete(endpoint, headers=headers)\n",
    "    \n",
    "    return(resp.json())"
   ]
  },
  {
   "cell_type": "markdown",
   "id": "8bb1cd0b-b73b-4400-a140-31aed072154c",
   "metadata": {},
   "source": [
    "### 1. Create \"*create.json*\" with dataset properties and dataset"
   ]
  },
  {
   "cell_type": "code",
   "execution_count": null,
   "id": "97b0f93c-f36b-48ab-b2cc-a375572b180f",
   "metadata": {},
   "outputs": [],
   "source": [
    "%%writefile client-files/tsi/create.json\n",
    "\n",
    "{\n",
    "    name: \"jbl_timeseries_full\",\n",
    "    dataNames: [\n",
    "        \"measure\",\n",
    "        \"Humidity\",\n",
    "        \"Light\",\n",
    "        \"h2_raw\",\n",
    "        \"temp\",\n",
    "    ],\n",
    "    dataSources: [\n",
    "        {uri: \"gs://demo-ts-data/jbl-full-ts.json\"}\n",
    "    ]\n",
    "}"
   ]
  },
  {
   "cell_type": "code",
   "execution_count": null,
   "id": "1cc620d0-8d66-4d67-aec1-5dcbf5483faa",
   "metadata": {},
   "outputs": [],
   "source": [
    "with open('client-files/tsi/create.json', 'r') as myfile:\n",
    "    data=myfile.read()\n",
    "    \n",
    "print(data)"
   ]
  },
  {
   "cell_type": "code",
   "execution_count": null,
   "id": "cfd69fa5-a775-4d51-9e03-679f044bd536",
   "metadata": {},
   "outputs": [],
   "source": [
    "# DO NOT RUN - THIS WILL CREATE NEW DATASET\n",
    "# Create dataset \n",
    "res = query_ts(method=\"POST\", endpoint=ts_endpoint, data=data, auth_token=token)\n",
    "res"
   ]
  },
  {
   "cell_type": "markdown",
   "id": "69977c29-46a4-4405-ab47-2aa471b5c6ae",
   "metadata": {},
   "source": [
    "### 2. List datasets"
   ]
  },
  {
   "cell_type": "code",
   "execution_count": null,
   "id": "86829677-73a5-4c60-a7f4-ee29afd4ecb2",
   "metadata": {},
   "outputs": [],
   "source": [
    "res = query_ts(method=\"GET\", endpoint=ts_endpoint, data=None, auth_token=token)\n",
    "res"
   ]
  },
  {
   "cell_type": "markdown",
   "id": "7e555bb0-4570-499c-94fa-54ac19a7607a",
   "metadata": {},
   "source": [
    "### 3. Create *query.json* with params and get forecast"
   ]
  },
  {
   "cell_type": "markdown",
   "id": "fb32909a-e25c-4599-a569-a9da79575b8b",
   "metadata": {},
   "source": [
    "#### Using light as *metric*"
   ]
  },
  {
   "cell_type": "code",
   "execution_count": null,
   "id": "e3ffc164-277a-4957-a76a-ae00c6499789",
   "metadata": {},
   "outputs": [],
   "source": [
    "%%writefile files/tsi/query.json\n",
    "\n",
    "{\n",
    "    detectionTime: \"2021-07-06T17:00:00Z\",\n",
    "    slicingParams: {\n",
    "        \"dimensionNames\": [\"measure\"]\n",
    "        },\n",
    "    timeseriesParams: {\n",
    "        \"forecastHistory\": \"86400s\",\n",
    "        \"granularity\": \"3600s\",\n",
    "        \"metric\": \"Light\"\n",
    "        },\n",
    "   \n",
    "    returnNonAnomalies: true,\n",
    "    returnTimeseries: true\n",
    "} "
   ]
  },
  {
   "cell_type": "markdown",
   "id": "0e1bdfa3-ce67-4794-ab1b-880f4928cea8",
   "metadata": {},
   "source": [
    "#### Using temp as *metric*"
   ]
  },
  {
   "cell_type": "code",
   "execution_count": null,
   "id": "892e4800-bca0-436f-883b-5e71c93d43cd",
   "metadata": {},
   "outputs": [],
   "source": [
    "%%writefile files/tsi/query.json\n",
    "\n",
    "{\n",
    "    detectionTime: \"2021-07-05T15:24:00Z\",\n",
    "    slicingParams: {\n",
    "        \"dimensionNames\": [\"measure\"]\n",
    "        },\n",
    "    timeseriesParams: {\n",
    "        \"forecastHistory\": \"86400s\",\n",
    "        \"granularity\": \"10s\",\n",
    "        \"metric\": \"temp\"\n",
    "        },\n",
    "   \n",
    "    returnNonAnomalies: false,\n",
    "    returnTimeseries: true\n",
    "} "
   ]
  },
  {
   "cell_type": "code",
   "execution_count": 38,
   "id": "269692e9-be6a-400b-923c-4b215e9615b6",
   "metadata": {},
   "outputs": [
    {
     "name": "stdout",
     "output_type": "stream",
     "text": [
      "\n",
      "{\n",
      "    detectionTime: \"2021-07-06T17:00:00Z\",\n",
      "    slicingParams: {\n",
      "        \"dimensionNames\": [\"measure\"]\n",
      "        },\n",
      "    timeseriesParams: {\n",
      "        \"forecastHistory\": \"86400s\",\n",
      "        \"granularity\": \"3600s\",\n",
      "        \"metric\": \"Light\"\n",
      "        },\n",
      "   \n",
      "    returnNonAnomalies: true,\n",
      "    returnTimeseries: true\n",
      "} \n",
      "\n"
     ]
    }
   ],
   "source": [
    "with open('files/tsi/query.json', 'r') as myfile:\n",
    "    query=myfile.read()\n",
    "    \n",
    "print(query)"
   ]
  },
  {
   "cell_type": "markdown",
   "id": "4b7796d1-4eba-40aa-8d73-41496f52d409",
   "metadata": {},
   "source": [
    "### 4. Fetch Timeseries"
   ]
  },
  {
   "cell_type": "code",
   "execution_count": null,
   "id": "8af66b90-593c-46a4-af06-37eee228a800",
   "metadata": {},
   "outputs": [],
   "source": [
    "%%writefile files/tsi/fetch.json\n",
    "\n",
    "{\n",
    "    \"sliceDimensions\": [\n",
    "        {\n",
    "            \"dimension\":\"measure\",\n",
    "            \"stringVal\":\"LTTH\"\n",
    "        }\n",
    "        ],\n",
    "      \"timeInterval\": {\n",
    "        startTime: \"2021-07-06T00:00:00Z\",\n",
    "        length: \"172800s\"\n",
    "      },\n",
    "      \"granularity\": \"3600s\",\n",
    "      \"metric\": \"Light\"\n",
    "}"
   ]
  },
  {
   "cell_type": "code",
   "execution_count": null,
   "id": "9352e513-1509-4078-a052-fbb427c536a0",
   "metadata": {},
   "outputs": [],
   "source": [
    "%%writefile files/tsi/fetch.json\n",
    "\n",
    "{\n",
    "    \"sliceDimensions\": [\n",
    "        {\n",
    "            \"dimension\":\"measure\",\n",
    "            \"stringVal\":\"LTTH\"\n",
    "        }\n",
    "        ],\n",
    "      \"timeInterval\": {\n",
    "        startTime: \"2021-07-05T00:24:00Z\",\n",
    "        length: \"86400s\"\n",
    "      },\n",
    "       \"granularity\": \"60s\",\n",
    "       \"metric\": \"temp\"\n",
    "}\n"
   ]
  },
  {
   "cell_type": "code",
   "execution_count": 24,
   "id": "9575497e-1c46-4880-91d6-520626b763a7",
   "metadata": {},
   "outputs": [
    {
     "name": "stdout",
     "output_type": "stream",
     "text": [
      "\n",
      "{\n",
      "    \"sliceDimensions\": [\n",
      "        {\n",
      "            \"dimension\":\"measure\",\n",
      "            \"stringVal\":\"LTTH\"\n",
      "        }\n",
      "        ],\n",
      "      \"timeInterval\": {\n",
      "        startTime: \"2021-07-05T00:24:00Z\",\n",
      "        length: \"86400s\"\n",
      "      },\n",
      "       \"granularity\": \"60s\",\n",
      "       \"metric\": \"temp\"\n",
      "}\n",
      "\n"
     ]
    }
   ],
   "source": [
    "with open('files/tsi/fetch.json', 'r') as myfile:\n",
    "    fetch_data=myfile.read()\n",
    "    \n",
    "print(fetch_data)"
   ]
  },
  {
   "cell_type": "code",
   "execution_count": null,
   "id": "d8f84cfb-79d8-456f-86f9-2a9ca58df866",
   "metadata": {},
   "outputs": [],
   "source": [
    "# Fetch timeseries for inspection\n",
    "\n",
    "fetch_ds_endpt = f'https://timeseriesinsights.googleapis.com/v1/projects/{PROJECT_ID}/datasets/{dataset_name}:fetchTimeseries'\n",
    "res = query_ts(method=\"POST\", endpoint=fetch_ds_endpt, data=fetch_data, auth_token=token)\n",
    "res"
   ]
  },
  {
   "cell_type": "markdown",
   "id": "3cd3e49b-461b-4a5d-a9fa-6c5cbfebf4f4",
   "metadata": {},
   "source": [
    "### 5. Delete timeseries"
   ]
  },
  {
   "cell_type": "code",
   "execution_count": null,
   "id": "2e4f5762-d66e-4f5a-8c9c-3c69921c39d6",
   "metadata": {},
   "outputs": [],
   "source": [
    "# delete datasets\n",
    "\n",
    "dataset_name = \"test\"\n",
    "delete_ds_endpt = f'https://timeseriesinsights.googleapis.com/v1/projects/{PROJECT_ID}/datasets/{dataset_name}'\n",
    "res = query_ts(method=\"DELETE\", endpoint=delete_ds_endpt, data=None, auth_token=token)\n",
    "res"
   ]
  }
 ],
 "metadata": {
  "environment": {
   "kernel": "python3",
   "name": "tf2-gpu.2-8.m91",
   "type": "gcloud",
   "uri": "gcr.io/deeplearning-platform-release/tf2-gpu.2-8:m91"
  },
  "kernelspec": {
   "display_name": "Python 3",
   "language": "python",
   "name": "python3"
  },
  "language_info": {
   "codemirror_mode": {
    "name": "ipython",
    "version": 3
   },
   "file_extension": ".py",
   "mimetype": "text/x-python",
   "name": "python",
   "nbconvert_exporter": "python",
   "pygments_lexer": "ipython3",
   "version": "3.7.12"
  }
 },
 "nbformat": 4,
 "nbformat_minor": 5
}
