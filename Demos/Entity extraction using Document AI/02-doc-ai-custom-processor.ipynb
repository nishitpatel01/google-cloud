{
 "cells": [
  {
   "cell_type": "markdown",
   "id": "059af293-7a66-4869-a01d-5669a1d9a248",
   "metadata": {},
   "source": [
    "# Model Factory Processor Development Example"
   ]
  },
  {
   "cell_type": "markdown",
   "id": "740f5fb9-9eaf-4023-ac52-50b852a71a49",
   "metadata": {},
   "source": [
    "### This notebook provides detailed instructions with code for using DataCompute to label documents for building custom document processors. "
   ]
  },
  {
   "cell_type": "markdown",
   "id": "9b3d993f-1ad6-4072-9d11-3ef622c3dca4",
   "metadata": {},
   "source": [
    "### Step 1: Install dependencies."
   ]
  },
  {
   "cell_type": "code",
   "execution_count": 2,
   "id": "c5a1d177-eca3-4038-8b6b-ce1e4c0b9fb1",
   "metadata": {},
   "outputs": [
    {
     "name": "stdout",
     "output_type": "stream",
     "text": [
      "Requirement already satisfied: joblib in /opt/conda/lib/python3.7/site-packages (1.0.1)\n",
      "Collecting google-cloud-documentai\n",
      "  Downloading google_cloud_documentai-1.2.1-py2.py3-none-any.whl (138 kB)\n",
      "     |████████████████████████████████| 138 kB 5.0 MB/s            \n",
      "\u001b[?25hCollecting ratelimiter\n",
      "  Downloading ratelimiter-1.2.0.post0-py3-none-any.whl (6.6 kB)\n",
      "Collecting tabulate\n",
      "  Downloading tabulate-0.8.9-py3-none-any.whl (25 kB)\n",
      "Collecting immutabledict\n",
      "  Downloading immutabledict-2.2.1-py3-none-any.whl (4.0 kB)\n",
      "Requirement already satisfied: google-api-core[grpc]<3.0.0dev,>=1.28.0 in /opt/conda/lib/python3.7/site-packages (from google-cloud-documentai) (2.1.0)\n",
      "Requirement already satisfied: proto-plus>=1.10.0 in /opt/conda/lib/python3.7/site-packages (from google-cloud-documentai) (1.19.5)\n",
      "Requirement already satisfied: google-auth<3.0dev,>=1.25.0 in /opt/conda/lib/python3.7/site-packages (from google-api-core[grpc]<3.0.0dev,>=1.28.0->google-cloud-documentai) (2.3.0)\n",
      "Requirement already satisfied: requests<3.0.0dev,>=2.18.0 in /opt/conda/lib/python3.7/site-packages (from google-api-core[grpc]<3.0.0dev,>=1.28.0->google-cloud-documentai) (2.25.1)\n",
      "Requirement already satisfied: setuptools>=40.3.0 in /opt/conda/lib/python3.7/site-packages (from google-api-core[grpc]<3.0.0dev,>=1.28.0->google-cloud-documentai) (58.2.0)\n",
      "Requirement already satisfied: protobuf>=3.12.0 in /opt/conda/lib/python3.7/site-packages (from google-api-core[grpc]<3.0.0dev,>=1.28.0->google-cloud-documentai) (3.18.1)\n",
      "Requirement already satisfied: googleapis-common-protos<2.0dev,>=1.6.0 in /opt/conda/lib/python3.7/site-packages (from google-api-core[grpc]<3.0.0dev,>=1.28.0->google-cloud-documentai) (1.53.0)\n",
      "Requirement already satisfied: grpcio<2.0dev,>=1.33.2 in /opt/conda/lib/python3.7/site-packages (from google-api-core[grpc]<3.0.0dev,>=1.28.0->google-cloud-documentai) (1.41.0)\n",
      "Requirement already satisfied: pyasn1-modules>=0.2.1 in /opt/conda/lib/python3.7/site-packages (from google-auth<3.0dev,>=1.25.0->google-api-core[grpc]<3.0.0dev,>=1.28.0->google-cloud-documentai) (0.2.7)\n",
      "Requirement already satisfied: cachetools<5.0,>=2.0.0 in /opt/conda/lib/python3.7/site-packages (from google-auth<3.0dev,>=1.25.0->google-api-core[grpc]<3.0.0dev,>=1.28.0->google-cloud-documentai) (4.2.4)\n",
      "Requirement already satisfied: rsa<5,>=3.1.4 in /opt/conda/lib/python3.7/site-packages (from google-auth<3.0dev,>=1.25.0->google-api-core[grpc]<3.0.0dev,>=1.28.0->google-cloud-documentai) (4.7.2)\n",
      "Requirement already satisfied: six>=1.5.2 in /opt/conda/lib/python3.7/site-packages (from grpcio<2.0dev,>=1.33.2->google-api-core[grpc]<3.0.0dev,>=1.28.0->google-cloud-documentai) (1.16.0)\n",
      "Requirement already satisfied: idna<3,>=2.5 in /opt/conda/lib/python3.7/site-packages (from requests<3.0.0dev,>=2.18.0->google-api-core[grpc]<3.0.0dev,>=1.28.0->google-cloud-documentai) (2.10)\n",
      "Requirement already satisfied: certifi>=2017.4.17 in /opt/conda/lib/python3.7/site-packages (from requests<3.0.0dev,>=2.18.0->google-api-core[grpc]<3.0.0dev,>=1.28.0->google-cloud-documentai) (2021.10.8)\n",
      "Requirement already satisfied: urllib3<1.27,>=1.21.1 in /opt/conda/lib/python3.7/site-packages (from requests<3.0.0dev,>=2.18.0->google-api-core[grpc]<3.0.0dev,>=1.28.0->google-cloud-documentai) (1.26.7)\n",
      "Requirement already satisfied: chardet<5,>=3.0.2 in /opt/conda/lib/python3.7/site-packages (from requests<3.0.0dev,>=2.18.0->google-api-core[grpc]<3.0.0dev,>=1.28.0->google-cloud-documentai) (4.0.0)\n",
      "Requirement already satisfied: pyasn1<0.5.0,>=0.4.6 in /opt/conda/lib/python3.7/site-packages (from pyasn1-modules>=0.2.1->google-auth<3.0dev,>=1.25.0->google-api-core[grpc]<3.0.0dev,>=1.28.0->google-cloud-documentai) (0.4.8)\n",
      "Installing collected packages: tabulate, ratelimiter, immutabledict, google-cloud-documentai\n",
      "Successfully installed google-cloud-documentai-1.2.1 immutabledict-2.2.1 ratelimiter-1.2.0.post0 tabulate-0.8.9\n"
     ]
    }
   ],
   "source": [
    "!pip install joblib google-cloud-documentai ratelimiter tabulate immutabledict"
   ]
  },
  {
   "cell_type": "markdown",
   "id": "5deeb81f-cf4f-4b1c-b2fa-dbfaaabbb491",
   "metadata": {},
   "source": [
    "### Step 2: Create a labeler pool."
   ]
  },
  {
   "cell_type": "markdown",
   "id": "3fea3591-32f1-4153-9687-a58875fb7b83",
   "metadata": {},
   "source": [
    "The pool can be reused in the development of multiple processors. __Please replace values before invoking the code below.__"
   ]
  },
  {
   "cell_type": "code",
   "execution_count": null,
   "id": "9bf748f3-4e11-419c-ad10-57e2323a83c8",
   "metadata": {},
   "outputs": [],
   "source": [
    "from model_factory import http_client\n",
    "\n",
    "LABELER_POOL_DISPLAY_NAME = 'Labeler Pool Name',\n",
    "LABELER_POOL_MANAGER_EMAILS = \"Labeler Pool Manager email\"\n",
    "\n",
    "dai_client = http_client.DocumentAIClient()\n",
    "\n",
    "lro_name = dai_client.create_labeler_pool(LABELER_POOL_DISPLAY_NAME , LABELER_POOL_MANAGER_EMAILS)\n",
    "print('Creating labeler pool...\\\\nThis could take a few seconds. Please wait.')\n",
    "\n",
    "lro = dai_client.wait_for_lro(lro_name)\n",
    "if 'response' in lro:\n",
    "    labeler_pool = lro['response']['name']\n",
    "    print(f'Labeler pool created: {labeler_pool}')\n",
    "    else:\n",
    "        print(f'Failed to create labeler pool: {lro}')"
   ]
  },
  {
   "cell_type": "markdown",
   "id": "ef0a5782-f88e-4bdc-b655-1be062d213ef",
   "metadata": {},
   "source": [
    "After the labeler pool is created, labeler pool managers should receive a email including a link to the manager dashboard for managing labeling tasks and labelers. "
   ]
  },
  {
   "cell_type": "markdown",
   "id": "fd85d35a-073e-42d7-8fa9-8f35ac7542ae",
   "metadata": {},
   "source": [
    "## Processor Development\n",
    "\n",
    "If you lose the connection to the notebook or interrupt the kernel session when you work on the following steps, please start from Step 1 again and optionally skip completed steps. All status including processor config, imported documents, labeled annotations are persisted under the specified workspace in your GCS bucket. Please use a different workspace path for each processor. "
   ]
  },
  {
   "cell_type": "markdown",
   "id": "fce5c2ba-d57c-471e-afd6-71887b662715",
   "metadata": {},
   "source": [
    "### Step 1: Create a processor.\n",
    "\n",
    "Code below will create an Extraction processor. __If you want to create a Classification or a Splitting processor, use its respective code (commented below) instead.__"
   ]
  },
  {
   "cell_type": "code",
   "execution_count": null,
   "id": "d579d1b1-6f4d-46cc-a5eb-86fb7a60f70f",
   "metadata": {},
   "outputs": [],
   "source": [
    "from model_factory import http_client, processor\n",
    "\n",
    "# Replace values below\n",
    "WORKSPACE = 'gs://<your_bucket_name>/<path_to_the_workspace>'\n",
    "new_processor = processor.ExtractionProcessor(WORKSPACE)\n",
    "# new_processor = processor.ClassificationProcessor(WORKSPACE)\n",
    "# new_processor = processor.SplittingProcessor(WORKSPACE)"
   ]
  },
  {
   "cell_type": "markdown",
   "id": "a86695b3-27a5-4993-9a78-f0b5de183105",
   "metadata": {},
   "source": [
    "### Step 2: Provide schema and labeling instructions.\n",
    "\n",
    "__Please follow the playbook__ for detailed information about how to prepare the schema and labeling instructions."
   ]
  },
  {
   "cell_type": "code",
   "execution_count": null,
   "id": "c7aaf149-34af-4009-ac3c-4f756e74645b",
   "metadata": {},
   "outputs": [],
   "source": [
    "from model_factory import http_client\n",
    "from IPython.display import HTML, display\n",
    "import tabulate\n",
    "\n",
    "dai_client = http_client.DocumentAIClient()\n",
    "response = dai_client.list_labeler_pools()\n",
    "\n",
    "if 'labelerPools' not in response or not response['labelerPools']:\n",
    "    print('Labeler pool not found.\\\\nPlease follow the Prerequisites section to create a labeler pool.')\n",
    "else:\n",
    "    print('Please select one labeler pool from below before running the next code block.')      \n",
    "    table = [['Display Name', 'Labeler Pool','Managers']]\n",
    "    \n",
    "    for pool in response['labelerPools']:\n",
    "        table.append([pool['displayName'],pool['name'],', '.join(pool['managerEmails'])])\n",
    "    display(HTML(tabulate.tabulate(table, tablefmt='html',headers='firstrow')))"
   ]
  },
  {
   "cell_type": "code",
   "execution_count": null,
   "id": "0dc0e103-fc3d-4bd9-b634-2736b43f71c9",
   "metadata": {},
   "outputs": [],
   "source": [
    "# Replace values below\n",
    "\n",
    "LABELER_POOL = 'projects/*/locations/*/labelerPools/*' # Use a labeler pool from the above table\n",
    "\n",
    "SCHEMA = {\n",
    "        'displayName': 'Schema name',\n",
    "        'description': 'Schema description',\n",
    "        'entityTypes': [\n",
    "            {\n",
    "                'type': 'type1',\n",
    "                'baseType': 'money',\n",
    "                'occurrenceType': 'OPTIONAL_ONCE',\n",
    "            },\n",
    "            {\n",
    "                'type': 'type2',\n",
    "                'baseType': 'datetime',\n",
    "                'occurrenceType': 'OPTIONAL_ONCE',\n",
    "            },\n",
    "        ]\n",
    "    }\n",
    "\n",
    "INSTRUCTION_URI = 'gs://<your_bucket_name>/<path_to_the_instruction_pdf>' # PDF instructions to be shared with labeler manager.\n",
    "new_processor.update_data_labeling_config(SCHEMA, INSTRUCTION_URI, LABELER_POOL)"
   ]
  },
  {
   "cell_type": "markdown",
   "id": "b5085309-8ccc-4034-8f69-c83a830cbe1e",
   "metadata": {},
   "source": [
    "### Step 3: Import training and test documents.\n",
    "\n",
    "Please upload training documents and test documents to GCS under two separate folders. Expect at least 5 minutes for importing documents."
   ]
  },
  {
   "cell_type": "code",
   "execution_count": null,
   "id": "ccbe02b0-bc8f-4b0c-8d98-7e5164fec65e",
   "metadata": {},
   "outputs": [],
   "source": [
    "# Replace values below\\\n",
    "\n",
    "TRAINING_SET_PATH = 'gs://<your_bucket_name>/<path_to_training_set>'\n",
    "TEST_SET_PATH = 'gs://<your_bucket_name>/<path_to_test_set>'\n",
    "\n",
    "new_processor.import_documents(TRAINING_SET_PATH, 'training')\n",
    "new_processor.import_documents(TEST_SET_PATH, 'test')"
   ]
  },
  {
   "cell_type": "markdown",
   "id": "bc0338fc-f0c6-4615-a591-84e4dc8dcf61",
   "metadata": {},
   "source": [
    "### Step 4: Label documents.\n",
    "\n",
    "After you run the below code block, please go to the labeler manager console to assign the task to corresponding labelers so that they can see the tasks in the UI. "
   ]
  },
  {
   "cell_type": "code",
   "execution_count": null,
   "id": "31b9c9df-7eca-499b-9361-89d2110b9a1e",
   "metadata": {},
   "outputs": [],
   "source": [
    "new_processor.label_dataset('training')\n",
    "new_processor.label_dataset('test')"
   ]
  },
  {
   "cell_type": "markdown",
   "id": "73e73c3d-57ee-47dc-b1d7-ffd3570f05da",
   "metadata": {},
   "source": [
    "### Step 5: Train the processor.\n",
    "\n",
    "This step could take a few hours depending on the size of training and test datasets."
   ]
  },
  {
   "cell_type": "code",
   "execution_count": null,
   "id": "3bef2d42-b161-4f3c-b3b1-cb9428d57ad5",
   "metadata": {},
   "outputs": [],
   "source": [
    "# Replace the below value.\n",
    "\n",
    "PROCESSOR_VERSION_DISPLAY_NAME = 'Version1' # Please use English letters, digits, underscore, hyphen only.\n",
    "\n",
    "# If you are training an extraction processor and interested in specifying algorithms. Set active algorithms first:\n",
    "# new_processor.active_algorithms = ['eesf', 'clara', 'gbow-flee1', 'harvester']\n",
    "\n",
    "# If you'd like to lower min dataset size thresholds from their default values to for example 5, use these options:\n",
    "# new_processor.processing_options['min-ground-truth-documents'] = '5'\n",
    "# new_processor.processing_options['min-ground-truth-documents-per-entity-type'] = '5'\n",
    "# new_processor.processing_options['min-ground-truth-entities-per-entity-type'] = '5'\n",
    "\n",
    "new_processor_version = new_processor.train('training','test', display_name = PROCESSOR_VERSION_DISPLAY_NAME)\n",
    "\n",
    "print(f'Trained processor version: {new_processor_version}')\n",
    "processor_name = '/'.join(new_processor.processor_name().split('/')[2:])\n",
    "evaluation_uri = f'https://console.cloud.google.com/ai/document-ai/{processor_name}/evaluations'\n",
    "\n",
    "from IPython.core.display import display, HTML\n",
    "display(HTML(f'<a href=\\\"{evaluation_uri}\\\">Evaluation page</a>'))"
   ]
  }
 ],
 "metadata": {
  "environment": {
   "kernel": "python3",
   "name": "tf2-gpu.2-8.m91",
   "type": "gcloud",
   "uri": "gcr.io/deeplearning-platform-release/tf2-gpu.2-8:m91"
  },
  "kernelspec": {
   "display_name": "Python 3",
   "language": "python",
   "name": "python3"
  },
  "language_info": {
   "codemirror_mode": {
    "name": "ipython",
    "version": 3
   },
   "file_extension": ".py",
   "mimetype": "text/x-python",
   "name": "python",
   "nbconvert_exporter": "python",
   "pygments_lexer": "ipython3",
   "version": "3.7.12"
  }
 },
 "nbformat": 4,
 "nbformat_minor": 5
}
