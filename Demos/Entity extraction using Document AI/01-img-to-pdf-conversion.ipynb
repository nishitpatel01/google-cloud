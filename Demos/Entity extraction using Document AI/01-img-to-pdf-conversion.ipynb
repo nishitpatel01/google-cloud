{
 "cells": [
  {
   "cell_type": "markdown",
   "id": "818052b6-4d94-41d1-88c8-caae0194933f",
   "metadata": {},
   "source": [
    "# Convert images to pdf for DocAI training"
   ]
  },
  {
   "cell_type": "markdown",
   "id": "9a4379b6-a063-449d-8c8d-b2763140821d",
   "metadata": {},
   "source": [
    "### Currently DocAI custom processor UI only supports pdf documents for processing. This notebook provides methods to convert documents from image to pdf format. "
   ]
  },
  {
   "cell_type": "code",
   "execution_count": null,
   "id": "8296e7da-3eec-4459-963d-fe3959163200",
   "metadata": {},
   "outputs": [],
   "source": [
    "from PIL import Image\n",
    "\n",
    "image1 = Image.open(\"img.jpg\")\n",
    "im1 = image1.convert('RGB')\n",
    "#im1.save(\"img.pdf\")\n",
    "image1"
   ]
  },
  {
   "cell_type": "code",
   "execution_count": null,
   "id": "3a29e40a-d1ef-4825-aad8-7154003504bd",
   "metadata": {},
   "outputs": [],
   "source": [
    "#real code to convert locally\n",
    "import os\n",
    "\n",
    "img_path = '/home/jupyter/demos/cc-images/'\n",
    "OUT_PATH = '/home/jupyter/demos/cc-pdfs/'\n",
    "\n",
    "for imgs in os.listdir(img_path):\n",
    "\n",
    "    print(f'{img_path}/{imgs}')\n",
    "    img = f'{img_path}/{imgs}'\n",
    "    img_name = imgs\n",
    "    with open(img, 'rb') as file:\n",
    "        image = Image.open(file)\n",
    "        #image.show()\n",
    "        im_conv = image.convert('RGB')\n",
    "        im_conv.save(f'{OUT_PATH}/{img_name}.pdf')"
   ]
  },
  {
   "cell_type": "markdown",
   "id": "02d5b2cf-c23e-416a-97a4-c12f09515c40",
   "metadata": {},
   "source": [
    "## Convert images from jpg to png\n",
    "After store pngs in CS bucket"
   ]
  },
  {
   "cell_type": "code",
   "execution_count": null,
   "id": "e8d21854-b6ef-429f-b157-b86e81f9bd7c",
   "metadata": {},
   "outputs": [],
   "source": [
    "from PIL import Image\n",
    "#real code to convert locally\n",
    "import os\n",
    "\n",
    "img_path = '/home/jupyter/demos/cc-plana-test/'\n",
    "OUT_PATH = '/home/jupyter/demos/cc-plana-test-pdf/'\n",
    "\n",
    "for imgs in os.listdir(img_path):\n",
    "\n",
    "    print(f'{img_path}/{imgs}')\n",
    "    img = f'{img_path}/{imgs}'\n",
    "    img_name = imgs.split(\".\",1)\n",
    "    with open(img, 'rb') as file:\n",
    "        image = Image.open(file)\n",
    "        #image.show()\n",
    "        im_conv = image.convert('RGB')\n",
    "        im_conv.save(f'{OUT_PATH}/{img_name[0]}.pdf')"
   ]
  },
  {
   "cell_type": "code",
   "execution_count": 2,
   "id": "06d97e34-7c17-40be-9e24-ab3fc62992f8",
   "metadata": {},
   "outputs": [],
   "source": [
    "img_path = '/home/jupyter/demos/cc-planb-test/'\n",
    "OUT_PATH = '/home/jupyter/demos/cc-planb-test-pdf'\n",
    "\n",
    "for imgs in os.listdir(img_path):\n",
    "\n",
    "    #print(f'{img_path}/{imgs}')\n",
    "    img = f'{img_path}/{imgs}'\n",
    "    img_name = imgs.split(\".\",1)\n",
    "    with open(img, 'rb') as file:\n",
    "        image = Image.open(file)\n",
    "        #image.show()\n",
    "        im_conv = image.convert('RGB')\n",
    "        im_conv.save(f'{OUT_PATH}/{img_name[0]}.pdf')"
   ]
  },
  {
   "cell_type": "code",
   "execution_count": 3,
   "id": "1baf653d-a9ec-4ee7-ab1b-f0f4a3d05a08",
   "metadata": {},
   "outputs": [
    {
     "name": "stdout",
     "output_type": "stream",
     "text": [
      "done\n"
     ]
    }
   ],
   "source": [
    "from google.cloud import storage\n",
    "import time\n",
    "\n",
    "plan_a_path = '/home/jupyter/demoscc-plana-test-pdf'\n",
    "\n",
    "client = storage.Client()\n",
    "bucket = client.bucket(\"cc-images\")\n",
    "\n",
    "\n",
    "for file in os.listdir(plan_a_path):\n",
    "    blob = bucket.blob(f\"plan-a-test/{file}\")\n",
    "    blob.upload_from_filename(f\"cc-plana-test-pdf/{file}\")\n",
    "    time.sleep(0.1)\n",
    "    \n",
    "print('done')"
   ]
  },
  {
   "cell_type": "code",
   "execution_count": 5,
   "id": "f366c88c-bdec-4783-aadf-672a1dc1707f",
   "metadata": {},
   "outputs": [
    {
     "name": "stdout",
     "output_type": "stream",
     "text": [
      "25\n",
      "done\n"
     ]
    }
   ],
   "source": [
    "path_b_path = '/home/jupyter/demos/cc-planb-test-pdf'\n",
    "from os import path\n",
    "client = storage.Client()\n",
    "bucket = client.bucket(\"cc-images\")\n",
    "count = 0\n",
    "\n",
    "for file in os.listdir(path_b_path):\n",
    "    if path.isfile(f\"{path_b_path}/{file}\") == 1:\n",
    "        blob = bucket.blob(f\"plan-b-test/{file}\")\n",
    "        blob.upload_from_filename(f\"cc-planb-test-pdf/{file}\")\n",
    "        time.sleep(0.1)\n",
    "        count = count + 1\n",
    "        \n",
    "print(count)\n",
    "print('done')"
   ]
  }
 ],
 "metadata": {
  "environment": {
   "kernel": "python3",
   "name": "tf2-gpu.2-8.m91",
   "type": "gcloud",
   "uri": "gcr.io/deeplearning-platform-release/tf2-gpu.2-8:m91"
  },
  "kernelspec": {
   "display_name": "Python 3",
   "language": "python",
   "name": "python3"
  },
  "language_info": {
   "codemirror_mode": {
    "name": "ipython",
    "version": 3
   },
   "file_extension": ".py",
   "mimetype": "text/x-python",
   "name": "python",
   "nbconvert_exporter": "python",
   "pygments_lexer": "ipython3",
   "version": "3.7.12"
  }
 },
 "nbformat": 4,
 "nbformat_minor": 5
}
